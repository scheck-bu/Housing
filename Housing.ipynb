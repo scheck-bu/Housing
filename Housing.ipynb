{
 "cells": [
  {
   "cell_type": "markdown",
   "id": "e721c22b",
   "metadata": {},
   "source": [
    "# Term Project: Final Submission\n",
    " \n",
    "<br>\n",
    "<h2><center>DSC 550 Winter 2023</center></h2>\n",
    "<h2><center>Garth Scheck </center></h2>"
   ]
  },
  {
   "cell_type": "markdown",
   "id": "21906182",
   "metadata": {},
   "source": [
    "<a id=\"0\"></a> <br>\n",
    " # Table of Contents  \n",
    "1. [Milestone 1](#50)\n",
    "    1. [Introduction](#0)\n",
    "    1. [Import datasets and append to a single dataframe](#1)     \n",
    "        1. [First five rows of dataframe](#12) \n",
    "        1. [Last five rows of dataframe](#13) \n",
    "        1. [List of columns](#14) \n",
    "    1. [Outliers](#2) \n",
    "    1. [Spread of Data](#3) \n",
    "    1. [Correlation](#4)     \n",
    "    1. [Regression Plots](#5)  \n",
    "1. [Milestone 2](#51)\n",
    "    1. [Missing Values](#60)\n",
    "    1. [Filtering Data](#70)    \n",
    "    1. [Outliers](#80)    \n",
    "    1. [Skew](#90)\n",
    "    1. [Categorical Variables](#95)\n",
    "    1. [Column Order](#100)\n",
    "1. [Milestone 3](#200)\n",
    "    1. [House Price Prediction](#210)\n",
    "        1. [Linear Regression](#220)\n",
    "        1. [Random Forest Regression](#230)\n",
    "        2. [Overview/Conclusion](#250)\n",
    "1. [References](#6)      "
   ]
  },
  {
   "cell_type": "markdown",
   "id": "ed4c0090",
   "metadata": {},
   "source": [
    "### Milestone 1<a id=\"50\"></a>"
   ]
  },
  {
   "cell_type": "markdown",
   "id": "8385d7bd",
   "metadata": {},
   "source": [
    "### Introduction<a id=\"0\"></a>\n",
    "\n",
    "> <p>Real estate is a competitive business and could benefit from machine learning.</p><p>For example, searching for affordable housing can be a timely process and is especially difficult and daunting for first time buyers because deciding what criteria is most important is not always straight forward. Being able to determine pricing based on a set of criteria, such as location, square footage, number of bedrooms, etc. would be very helpful. Could machine learning be used in this scenario to predict house prices if given a set of criteria?</p><p>I believe this would be a useful tool for real estate companies to have so that potential buyers could get an estimate on what the price would be given their criteria for a home. The model could also be useful for clients who are trying to sell their house, to get an idea of what price they can expect. </p><p>Data used for analysis and building the model will come from property sales datasets on the Milwaukee government website. Multiple datasets will be downloaded and combined into a single dataframe.  Link to dataset source is in the references.</p><p>To start, I will investigate if there are outliers using box plots. Next I will look at the spread of the data to see if it is skewed and then I will get an overview of correlation.</p><p>After the initial investigation, data in the dataframe will be cleaned to make analysis easier. Cleaning will involve getting rid of nulls in critical columns, removing unnecessary columns, and dealing with outliers. The cleaning step will also involve transformations such as converting categorical data to numerical to aid in determining correlation and scaling.</p><p>And finally, analysis will be done to help determine important attributes that affect house prices. These attributes will then be used to create the model.</p><p>The plan is to use linear regression to create the mode and house price will be the target for the model.</p>"
   ]
  },
  {
   "cell_type": "markdown",
   "id": "a2ca4b37",
   "metadata": {},
   "source": [
    "### Import datasets and append to a single dataframe.<a id=\"1\"></a>"
   ]
  },
  {
   "cell_type": "markdown",
   "id": "48b32319",
   "metadata": {},
   "source": [
    "<font color='blue'>Import necessary packages.</font>"
   ]
  },
  {
   "cell_type": "code",
   "execution_count": 1,
   "id": "0123b2f9",
   "metadata": {},
   "outputs": [],
   "source": [
    "import pandas as pd\n",
    "import numpy as np\n",
    "import matplotlib.pyplot as plt\n",
    "import seaborn as sns"
   ]
  },
  {
   "cell_type": "code",
   "execution_count": 2,
   "id": "68965e8b",
   "metadata": {},
   "outputs": [],
   "source": [
    "# read csv files into a dataframe\n",
    "# source of dataset is in the references section\n",
    "\n",
    "df = pd.read_csv(\"D:/Statistics/550/term/2022-property-sales-data.csv\")\n",
    "\n",
    "df['FinishedSqft'] = df['FinishedSqft'].astype('float32')"
   ]
  },
  {
   "cell_type": "code",
   "execution_count": 3,
   "id": "03d6ac6b",
   "metadata": {},
   "outputs": [],
   "source": [
    "# Use for loop to append csv files to a single dataframe\n",
    "for yr in range(18, 21):\n",
    "    file = \"D:/Statistics/550/term/20\" + str(yr) +  \"-property-sales-data.csv\"\n",
    "    df2 = pd.read_csv(file)\n",
    "    if yr == 20:\n",
    "        df2['FinishedSqft'] = df2['FinishedSqft'].str.replace(',', '')\n",
    "        df2['Lotsize'] = df2['Lotsize'].str.replace(',', '')\n",
    "        df2['Sale_price'] = df2['Sale_price'].str.replace(',', '')\n",
    "        df2['Sale_price'] = df2['Sale_price'].str.replace('$', '')\n",
    "\n",
    "    #df2['FinishedSqft'] = df2['FinishedSqft'].astype('float32')\n",
    "    #df.append(df2, ignore_index=True)\n",
    "    df = pd.concat([df, df2], ignore_index=True)\n",
    "    df = df.reset_index(drop=True)\n",
    "\n",
    "df['FinishedSqft'] = df['FinishedSqft'].astype('float32')\n",
    "df['Lotsize'] = df['Lotsize'].astype('float32')\n",
    "df['Sale_price'] = df['Sale_price'].astype('float32')"
   ]
  },
  {
   "cell_type": "code",
   "execution_count": 4,
   "id": "660e9646-3b86-4f61-a705-91875c1c428f",
   "metadata": {},
   "outputs": [
    {
     "name": "stdout",
     "output_type": "stream",
     "text": [
      " \n",
      "Count of missing values in each column: \n",
      "\n",
      " PropType            8\n",
      "taxkey              0\n",
      "Address             0\n",
      "District            1\n",
      "nbhd               25\n",
      "Style              39\n",
      "Extwall          3911\n",
      "Stories            88\n",
      "Year_Built         27\n",
      "Rooms            6465\n",
      "FinishedSqft       44\n",
      "Units               0\n",
      "Bdrms             950\n",
      "Fbath             655\n",
      "Hbath            4840\n",
      "Lotsize             0\n",
      "Sale_date           0\n",
      "Sale_price         10\n",
      "CondoProject    24193\n",
      "dtype: int64\n"
     ]
    }
   ],
   "source": [
    "# Count total NaN at each column in a DataFrame \n",
    "print(\" \\nCount of missing values in each column: \\n\\n\", \n",
    "      df.isnull().sum()) "
   ]
  },
  {
   "cell_type": "code",
   "execution_count": 5,
   "id": "23b31d9b",
   "metadata": {},
   "outputs": [
    {
     "name": "stdout",
     "output_type": "stream",
     "text": [
      "<class 'pandas.core.frame.DataFrame'>\n",
      "RangeIndex: 25225 entries, 0 to 25224\n",
      "Data columns (total 19 columns):\n",
      " #   Column        Non-Null Count  Dtype  \n",
      "---  ------        --------------  -----  \n",
      " 0   PropType      25217 non-null  object \n",
      " 1   taxkey        25225 non-null  int64  \n",
      " 2   Address       25225 non-null  object \n",
      " 3   District      25224 non-null  float64\n",
      " 4   nbhd          25200 non-null  float64\n",
      " 5   Style         25186 non-null  object \n",
      " 6   Extwall       21314 non-null  object \n",
      " 7   Stories       25137 non-null  float64\n",
      " 8   Year_Built    25198 non-null  float64\n",
      " 9   Rooms         18760 non-null  float64\n",
      " 10  FinishedSqft  25181 non-null  float32\n",
      " 11  Units         25225 non-null  int64  \n",
      " 12  Bdrms         24275 non-null  float64\n",
      " 13  Fbath         24570 non-null  float64\n",
      " 14  Hbath         20385 non-null  float64\n",
      " 15  Lotsize       25225 non-null  float32\n",
      " 16  Sale_date     25225 non-null  object \n",
      " 17  Sale_price    25215 non-null  float32\n",
      " 18  CondoProject  1032 non-null   object \n",
      "dtypes: float32(3), float64(8), int64(2), object(6)\n",
      "memory usage: 3.4+ MB\n"
     ]
    }
   ],
   "source": [
    "df.info()"
   ]
  },
  {
   "cell_type": "markdown",
   "id": "de4e4ab0",
   "metadata": {},
   "source": [
    "#### <font color='blue'>First five rows of dataframe.</font><a id=\"12\"></a> "
   ]
  },
  {
   "cell_type": "code",
   "execution_count": 6,
   "id": "e6d66c2a",
   "metadata": {},
   "outputs": [
    {
     "name": "stdout",
     "output_type": "stream",
     "text": [
      "        PropType    taxkey                Address  District    nbhd  \\\n",
      "0  Manufacturing  30131000   9434-9446 N 107TH ST       9.0  6300.0   \n",
      "1     Commercial  30152000   9306-9316 N 107TH ST       9.0  6202.0   \n",
      "2    Residential  49980110         9327 N SWAN RD       9.0    40.0   \n",
      "3    Residential  49993200  9411 W COUNTY LINE RD       9.0    40.0   \n",
      "4    Residential  50042000        9322 N JOYCE AV       9.0    40.0   \n",
      "\n",
      "                       Style         Extwall  Stories  Year_Built  Rooms  \\\n",
      "0           Service Building  Concrete Block      1.0      1978.0    NaN   \n",
      "1  Office Building - 1 Story           Brick      1.0      1982.0    NaN   \n",
      "2                        NaN             NaN      NaN         NaN    NaN   \n",
      "3                      Ranch  Aluminum/Vinyl      1.0      1959.0    6.0   \n",
      "4                      Ranch  Aluminum/Vinyl      1.0      1980.0   10.0   \n",
      "\n",
      "   FinishedSqft  Units  Bdrms  Fbath  Hbath    Lotsize  Sale_date  Sale_price  \\\n",
      "0       20600.0      6    NaN    0.0    0.0        0.0   4/1/2022    950000.0   \n",
      "1        9688.0     23    NaN    0.0    0.0    35719.0  10/7/2022    385000.0   \n",
      "2           NaN      0    NaN    0.0    0.0  1341648.0   1/7/2022    800000.0   \n",
      "3        1334.0      1    3.0    1.0    1.0    83200.0   8/9/2022    280000.0   \n",
      "4        1006.0      1    6.0    1.0    0.0     8303.0  5/23/2022    233100.0   \n",
      "\n",
      "  CondoProject  \n",
      "0          NaN  \n",
      "1          NaN  \n",
      "2          NaN  \n",
      "3          NaN  \n",
      "4          NaN  \n"
     ]
    }
   ],
   "source": [
    "print(df.head())"
   ]
  },
  {
   "cell_type": "markdown",
   "id": "d8613e75",
   "metadata": {},
   "source": [
    "#### <font color='blue'>Last five rows of dataframe.</font><a id=\"13\"></a>"
   ]
  },
  {
   "cell_type": "code",
   "execution_count": 7,
   "id": "afc78f28",
   "metadata": {},
   "outputs": [
    {
     "name": "stdout",
     "output_type": "stream",
     "text": [
      "          PropType      taxkey          Address  District    nbhd  \\\n",
      "25220  Condominium  7160336000  1910 W SALEM ST      13.0  5360.0   \n",
      "25221  Condominium  7160347000   6330 S 20TH ST      13.0  5360.0   \n",
      "25222  Condominium  7160366000   6378 S 20TH ST      13.0  5360.0   \n",
      "25223  Condominium  7160367000   6366 S 20TH ST      13.0  5360.0   \n",
      "25224  Condominium  7160369000   6380 S 20TH ST      13.0  5360.0   \n",
      "\n",
      "                      Style Extwall  Stories  Year_Built  Rooms  FinishedSqft  \\\n",
      "25220  Low Rise 1-3 Stories     NaN      2.0      1974.0    4.0        1100.0   \n",
      "25221  Low Rise 1-3 Stories     NaN      1.0      1974.0    5.0        1141.0   \n",
      "25222  Low Rise 1-3 Stories     NaN      2.0      1974.0    5.0        1100.0   \n",
      "25223  Low Rise 1-3 Stories     NaN      2.0      1974.0    5.0        1100.0   \n",
      "25224  Low Rise 1-3 Stories     NaN      2.0      1974.0    5.0        1100.0   \n",
      "\n",
      "       Units  Bdrms  Fbath  Hbath  Lotsize   Sale_date  Sale_price  \\\n",
      "25220      1    2.0    1.0    1.0      1.0  11/11/2020    100000.0   \n",
      "25221      1    2.0    1.0    1.0      1.0   8/27/2020    110000.0   \n",
      "25222      1    2.0    1.0    1.0      1.0   9/16/2020     95000.0   \n",
      "25223      1    2.0    1.0    1.0      1.0   9/29/2020    100000.0   \n",
      "25224      1    2.0    1.0    1.0      1.0   11/2/2020    114500.0   \n",
      "\n",
      "      CondoProject  \n",
      "25220          NaN  \n",
      "25221          NaN  \n",
      "25222          NaN  \n",
      "25223          NaN  \n",
      "25224          NaN  \n"
     ]
    }
   ],
   "source": [
    "print(df.tail())"
   ]
  },
  {
   "cell_type": "markdown",
   "id": "42df8b0c",
   "metadata": {},
   "source": [
    "#### <font color='blue'>Columns in dataframe.</font><a id=\"14\"></a> "
   ]
  },
  {
   "cell_type": "code",
   "execution_count": 8,
   "id": "034e90ec",
   "metadata": {},
   "outputs": [
    {
     "name": "stdout",
     "output_type": "stream",
     "text": [
      "PropType\n",
      "taxkey\n",
      "Address\n",
      "District\n",
      "nbhd\n",
      "Style\n",
      "Extwall\n",
      "Stories\n",
      "Year_Built\n",
      "Rooms\n",
      "FinishedSqft\n",
      "Units\n",
      "Bdrms\n",
      "Fbath\n",
      "Hbath\n",
      "Lotsize\n",
      "Sale_date\n",
      "Sale_price\n",
      "CondoProject\n"
     ]
    }
   ],
   "source": [
    "# print the columns by looping through them\n",
    "for col in df.columns:\n",
    "    print(col)"
   ]
  },
  {
   "cell_type": "markdown",
   "id": "c2707568",
   "metadata": {},
   "source": [
    "### Checking for Outliers<a id=\"2\"></a> \n",
    "\n",
    "> <b><font color='blue'>Show box plots of Finished Sqft and Sale Price to check for outliers.</font></b>"
   ]
  },
  {
   "cell_type": "code",
   "execution_count": 9,
   "id": "6d43c1e3",
   "metadata": {},
   "outputs": [
    {
     "data": {
      "image/png": "[encoded data removed]",
      "text/plain": [
       "<Figure size 1000x500 with 2 Axes>"
      ]
     },
     "metadata": {},
     "output_type": "display_data"
    }
   ],
   "source": [
    "# create two subplots\n",
    "fig, axs = plt.subplots(1,2, figsize = (10,5))\n",
    "\n",
    "# create a box plot of Finished Square feet and put on axis 0\n",
    "\n",
    "plt1 = sns.boxplot(df['FinishedSqft'], ax = axs[0])\n",
    "plt1.title.set_text('Finished Sqft')\n",
    "\n",
    "# create a box plot of Sales Price feet and put on axis 1\n",
    "plt2 = sns.boxplot(df['Sale_price'], ax = axs[1])\n",
    "plt2.title.set_text('Sale Price (100K)')\n",
    "plt.tight_layout()"
   ]
  },
  {
   "cell_type": "markdown",
   "id": "c303fbbc",
   "metadata": {},
   "source": [
    "#### <font color='blue'>As can be seen by just the two box plots above, there are quite a few outliers.</font>"
   ]
  },
  {
   "cell_type": "markdown",
   "id": "c6f43c93",
   "metadata": {},
   "source": [
    "### Spread of Data <a id=\"3\"></a>\n",
    "\n",
    "> <p><b><font color='blue'>Display distribution plots to show spread of sale price and finished square feet data.</font></b></p>"
   ]
  },
  {
   "cell_type": "code",
   "execution_count": 10,
   "id": "397fdaef",
   "metadata": {},
   "outputs": [
    {
     "name": "stderr",
     "output_type": "stream",
     "text": [
      "C:\\Users\\Garth\\anaconda3\\lib\\site-packages\\seaborn\\_oldcore.py:1119: FutureWarning: use_inf_as_na option is deprecated and will be removed in a future version. Convert inf values to NaN before operating instead.\n",
      "  with pd.option_context('mode.use_inf_as_na', True):\n",
      "C:\\Users\\Garth\\anaconda3\\lib\\site-packages\\seaborn\\_oldcore.py:1119: FutureWarning: use_inf_as_na option is deprecated and will be removed in a future version. Convert inf values to NaN before operating instead.\n",
      "  with pd.option_context('mode.use_inf_as_na', True):\n",
      "C:\\Users\\Garth\\anaconda3\\lib\\site-packages\\seaborn\\_oldcore.py:1119: FutureWarning: use_inf_as_na option is deprecated and will be removed in a future version. Convert inf values to NaN before operating instead.\n",
      "  with pd.option_context('mode.use_inf_as_na', True):\n"
     ]
    },
    {
     "data": {
      "image/png": "[encoded data removed]",
      "text/plain": [
       "<Figure size 1000x500 with 2 Axes>"
      ]
     },
     "metadata": {},
     "output_type": "display_data"
    }
   ],
   "source": [
    "# create two subplots\n",
    "fig, axs = plt.subplots(1,2, figsize = (10,5))\n",
    "\n",
    "# create a histogram plot of Sales Price and put on axis 0\n",
    "plt1 = sns.histplot(df[\"Sale_price\"],color='#500050', ax = axs[0], kde=True)\n",
    "plt1.title.set_text('Sale Price')\n",
    "\n",
    "# create a histogram plot of Finished Square feet and put on axis 1\n",
    "plt2 = sns.histplot(df[\"FinishedSqft\"],color='#500050', ax = axs[1], kde=True)\n",
    "plt2.title.set_text('Finished Square Footage')\n",
    "plt.tight_layout()\n",
    "\n",
    "# create a histogram plot of Finished Square feet and put on axis 1\n",
    "plt2 = sns.histplot(df[\"FinishedSqft\"],color='#500050', ax = axs[1], kde=True)\n",
    "plt2.title.set_text('Finished Square Footage')\n",
    "plt.tight_layout()"
   ]
  },
  {
   "cell_type": "markdown",
   "id": "c6a5e721",
   "metadata": {},
   "source": [
    "### Correlation <a id=\"4\"></a> \n",
    "\n",
    "> <p><b><font color='blue'>Heat map to visualize correlation.</font></b></p>"
   ]
  },
  {
   "cell_type": "code",
   "execution_count": 11,
   "id": "ac7f9459-8fd9-4ccb-9fc0-f9fc882a14a2",
   "metadata": {},
   "outputs": [],
   "source": [
    "df['PropType'] = df['PropType'].factorize()[0]\n",
    "df['Style'] = df['Style'].factorize()[0]\n",
    "df['Extwall'] = df['Extwall'].factorize()[0]\n",
    "\n",
    "df.drop('Address', axis=1, inplace=True)\n",
    "df.drop('Sale_date', axis=1, inplace=True)\n",
    "df.drop('CondoProject', axis=1, inplace=True)\n",
    "\n",
    "df = df[df['Lotsize'] > 1]"
   ]
  },
  {
   "cell_type": "code",
   "execution_count": 12,
   "id": "b1dc96f6-4f68-4d9b-b746-6e2a8252007a",
   "metadata": {},
   "outputs": [
    {
     "name": "stdout",
     "output_type": "stream",
     "text": [
      "<class 'pandas.core.frame.DataFrame'>\n",
      "Index: 21696 entries, 1 to 25217\n",
      "Data columns (total 16 columns):\n",
      " #   Column        Non-Null Count  Dtype  \n",
      "---  ------        --------------  -----  \n",
      " 0   PropType      21696 non-null  int64  \n",
      " 1   taxkey        21696 non-null  int64  \n",
      " 2   District      21695 non-null  float64\n",
      " 3   nbhd          21671 non-null  float64\n",
      " 4   Style         21696 non-null  int64  \n",
      " 5   Extwall       21696 non-null  int64  \n",
      " 6   Stories       21674 non-null  float64\n",
      " 7   Year_Built    21681 non-null  float64\n",
      " 8   Rooms         16215 non-null  float64\n",
      " 9   FinishedSqft  21655 non-null  float32\n",
      " 10  Units         21696 non-null  int64  \n",
      " 11  Bdrms         20861 non-null  float64\n",
      " 12  Fbath         21098 non-null  float64\n",
      " 13  Hbath         17499 non-null  float64\n",
      " 14  Lotsize       21696 non-null  float32\n",
      " 15  Sale_price    21688 non-null  float32\n",
      "dtypes: float32(3), float64(8), int64(5)\n",
      "memory usage: 2.6 MB\n"
     ]
    }
   ],
   "source": [
    "df.info()"
   ]
  },
  {
   "cell_type": "code",
   "execution_count": 13,
   "id": "7063c36b",
   "metadata": {},
   "outputs": [
    {
     "data": {
      "image/png": "[encoded data removed]",
      "text/plain": [
       "<Figure size 1000x600 with 2 Axes>"
      ]
     },
     "metadata": {},
     "output_type": "display_data"
    }
   ],
   "source": [
    "import pandas as pd\n",
    "import seaborn as sns\n",
    "import matplotlib.pyplot as plt\n",
    "\n",
    "# get correlation matrix\n",
    "matrix = df.corr().round(2)\n",
    "\n",
    "# create a heat map of matrix\n",
    "plt.figure(figsize = (10, 6))\n",
    "sns.heatmap(matrix, annot=True, cmap=sns.cubehelix_palette(as_cmap=True))\n",
    "plt.show()"
   ]
  },
  {
   "cell_type": "markdown",
   "id": "836051ab",
   "metadata": {},
   "source": [
    "> <p><b><font color='blue'>The attribues appearing to have the most correlation with price are units, lot size, and finished square footage.</font></b></p>"
   ]
  },
  {
   "cell_type": "markdown",
   "id": "fa3eb53c",
   "metadata": {},
   "source": [
    "### Regression Plots<a id=\"5\"></a> \n",
    "\n",
    "#### <font color='blue'>Use regression plots to look further at units, lot size and finished square footage.</font>"
   ]
  },
  {
   "cell_type": "markdown",
   "id": "f9291d49",
   "metadata": {},
   "source": [
    "<font color='blue'>Lot Size and Sale Price</font>"
   ]
  },
  {
   "cell_type": "code",
   "execution_count": 14,
   "id": "37c5cdcb",
   "metadata": {},
   "outputs": [
    {
     "data": {
      "image/png": "[encoded data removed]",
      "text/plain": [
       "<Figure size 700x300 with 1 Axes>"
      ]
     },
     "metadata": {},
     "output_type": "display_data"
    }
   ],
   "source": [
    "plt.figure(figsize=(7, 3))\n",
    "sns.regplot(x='Lotsize', y='Sale_price', data=df)\n",
    "plt.show()"
   ]
  },
  {
   "cell_type": "markdown",
   "id": "f96a28d0",
   "metadata": {},
   "source": [
    "<font color='blue'>Units and Sale Price</font>"
   ]
  },
  {
   "cell_type": "code",
   "execution_count": 15,
   "id": "41b1b212",
   "metadata": {},
   "outputs": [
    {
     "data": {
      "image/png": "[encoded data removed]",
      "text/plain": [
       "<Figure size 700x300 with 1 Axes>"
      ]
     },
     "metadata": {},
     "output_type": "display_data"
    }
   ],
   "source": [
    "plt.figure(figsize=(7, 3))\n",
    "sns.regplot(x='Units', y='Sale_price', data=df)\n",
    "plt.show()"
   ]
  },
  {
   "cell_type": "markdown",
   "id": "a3aac391",
   "metadata": {},
   "source": [
    "<font color='blue'>Finished Square Footage and Sale Price</font>"
   ]
  },
  {
   "cell_type": "code",
   "execution_count": 16,
   "id": "6f7c37fa",
   "metadata": {},
   "outputs": [
    {
     "data": {
      "image/png": "[encoded data removed]",
      "text/plain": [
       "<Figure size 700x300 with 1 Axes>"
      ]
     },
     "metadata": {},
     "output_type": "display_data"
    }
   ],
   "source": [
    "plt.figure(figsize=(7, 3))\n",
    "sns.regplot(x='FinishedSqft', y='Sale_price', data=df)\n",
    "plt.show()"
   ]
  },
  {
   "cell_type": "markdown",
   "id": "e13787ce",
   "metadata": {},
   "source": [
    "### Milestone 2<a id=\"51\"></a>"
   ]
  },
  {
   "cell_type": "markdown",
   "id": "625fb3b1",
   "metadata": {},
   "source": [
    "### Check for Missing Values<a id=\"60\"></a> "
   ]
  },
  {
   "cell_type": "code",
   "execution_count": 17,
   "id": "9789674d",
   "metadata": {
    "scrolled": true
   },
   "outputs": [
    {
     "name": "stdout",
     "output_type": "stream",
     "text": [
      " \n",
      "Count of missing values in each column: \n",
      "\n",
      " PropType           0\n",
      "taxkey             0\n",
      "District           1\n",
      "nbhd              25\n",
      "Style              0\n",
      "Extwall            0\n",
      "Stories           22\n",
      "Year_Built        15\n",
      "Rooms           5481\n",
      "FinishedSqft      41\n",
      "Units              0\n",
      "Bdrms            835\n",
      "Fbath            598\n",
      "Hbath           4197\n",
      "Lotsize            0\n",
      "Sale_price         8\n",
      "dtype: int64\n"
     ]
    }
   ],
   "source": [
    "# Count total NaN at each column in a DataFrame \n",
    "print(\" \\nCount of missing values in each column: \\n\\n\", \n",
    "      df.isnull().sum()) "
   ]
  },
  {
   "cell_type": "markdown",
   "id": "6d6b18cd",
   "metadata": {},
   "source": [
    "<font color='blue'>There are ten columns containing missing values. Next steps will be determining how to deal with the missing values.</font></b></p>"
   ]
  },
  {
   "cell_type": "code",
   "execution_count": 18,
   "id": "438329e0",
   "metadata": {},
   "outputs": [
    {
     "data": {
      "text/plain": [
       "(21641, 16)"
      ]
     },
     "execution_count": 18,
     "metadata": {},
     "output_type": "execute_result"
    }
   ],
   "source": [
    "df = df[df['FinishedSqft'].notna()]\n",
    "df = df[df['Year_Built'].notna()]\n",
    "df = df[df['Stories'].notna()]\n",
    "df.shape"
   ]
  },
  {
   "cell_type": "markdown",
   "id": "4e53e810",
   "metadata": {},
   "source": [
    "#### <font color='blue'>Remove exterior wall column, as it does not add any value.</font>"
   ]
  },
  {
   "cell_type": "code",
   "execution_count": 19,
   "id": "7c3693ee",
   "metadata": {},
   "outputs": [],
   "source": [
    "df.drop('Extwall', axis=1, inplace=True)"
   ]
  },
  {
   "cell_type": "markdown",
   "id": "cccb13e1",
   "metadata": {},
   "source": [
    "#### <font color='blue'>Remove rooms column as it is the same as number of bed rooms.</font>"
   ]
  },
  {
   "cell_type": "code",
   "execution_count": 20,
   "id": "792d9ba2",
   "metadata": {},
   "outputs": [],
   "source": [
    "df.drop('Rooms', axis=1, inplace=True)"
   ]
  },
  {
   "cell_type": "markdown",
   "id": "3e504e7b-7c98-4fa1-bb7c-a815e9896c67",
   "metadata": {},
   "source": [
    "#### <font color='blue'>Remove rows where sale price, neighborhood, and district are null. Rows are being removed because entering a value could produce misleading information.</font>"
   ]
  },
  {
   "cell_type": "code",
   "execution_count": 21,
   "id": "e90c4496-b1b6-481d-bca3-4e335b78a0ec",
   "metadata": {},
   "outputs": [],
   "source": [
    "df = df[df['Sale_price'].notna()]\n",
    "df = df[df['nbhd'].notna()]\n",
    "df = df[df['District'].notna()]"
   ]
  },
  {
   "cell_type": "markdown",
   "id": "7e2e3fcf-bfd7-45ef-b0f7-77e42575e86d",
   "metadata": {},
   "source": [
    "#### <font color='blue'>Enter a zero for half bath and full bath where entries are NaN. Enter a one for bedrooms where entry is NaN.</font>"
   ]
  },
  {
   "cell_type": "code",
   "execution_count": 22,
   "id": "42416a77-68e4-4a37-8575-da5ec125f033",
   "metadata": {},
   "outputs": [],
   "source": [
    "df['Hbath'] = df['Hbath'].fillna(0)\n",
    "df['Fbath'] = df['Fbath'].fillna(0)\n",
    "df['Bdrms'] = df['Bdrms'].fillna(1)"
   ]
  },
  {
   "cell_type": "markdown",
   "id": "0d4f1cd6",
   "metadata": {},
   "source": [
    "### Return only Residential Properties.<a id=\"70\"></a> "
   ]
  },
  {
   "cell_type": "markdown",
   "id": "59d71d02",
   "metadata": {},
   "source": [
    "#### <font color='blue'>It appears that the majority of properties, with the number of bedrooms having null, are not residential. To test this we will return only residential properties.</font>"
   ]
  },
  {
   "cell_type": "code",
   "execution_count": 23,
   "id": "17793225",
   "metadata": {},
   "outputs": [
    {
     "name": "stdout",
     "output_type": "stream",
     "text": [
      " \n",
      "Number of records missing number of bedrooms: \n",
      "\n",
      " 0\n"
     ]
    }
   ],
   "source": [
    "# return rows only containing property types that are Residential \n",
    "df_residential = df[df['PropType'] == 2]\n",
    "\n",
    "# reset index\n",
    "df_residential = df_residential.reset_index(drop=True)\n",
    "\n",
    "# show number of missing values\n",
    "print(\" \\nNumber of records missing number of bedrooms: \\n\\n\", \n",
    "      df_residential['Bdrms'].isnull().sum()) "
   ]
  },
  {
   "cell_type": "code",
   "execution_count": 24,
   "id": "a0b577ff-021f-4a80-8e67-ebc38863d1a9",
   "metadata": {},
   "outputs": [
    {
     "data": {
      "text/html": [
       "<div>\n",
       "<style scoped>\n",
       "    .dataframe tbody tr th:only-of-type {\n",
       "        vertical-align: middle;\n",
       "    }\n",
       "\n",
       "    .dataframe tbody tr th {\n",
       "        vertical-align: top;\n",
       "    }\n",
       "\n",
       "    .dataframe thead th {\n",
       "        text-align: right;\n",
       "    }\n",
       "</style>\n",
       "<table border=\"1\" class=\"dataframe\">\n",
       "  <thead>\n",
       "    <tr style=\"text-align: right;\">\n",
       "      <th></th>\n",
       "      <th>PropType</th>\n",
       "      <th>taxkey</th>\n",
       "      <th>District</th>\n",
       "      <th>nbhd</th>\n",
       "      <th>Style</th>\n",
       "      <th>Stories</th>\n",
       "      <th>Year_Built</th>\n",
       "      <th>FinishedSqft</th>\n",
       "      <th>Units</th>\n",
       "      <th>Bdrms</th>\n",
       "      <th>Fbath</th>\n",
       "      <th>Hbath</th>\n",
       "      <th>Lotsize</th>\n",
       "      <th>Sale_price</th>\n",
       "    </tr>\n",
       "  </thead>\n",
       "  <tbody>\n",
       "    <tr>\n",
       "      <th>0</th>\n",
       "      <td>2</td>\n",
       "      <td>49993200</td>\n",
       "      <td>9.0</td>\n",
       "      <td>40.0</td>\n",
       "      <td>2</td>\n",
       "      <td>1.0</td>\n",
       "      <td>1959.0</td>\n",
       "      <td>1334.0</td>\n",
       "      <td>1</td>\n",
       "      <td>3.0</td>\n",
       "      <td>1.0</td>\n",
       "      <td>1.0</td>\n",
       "      <td>83200.0</td>\n",
       "      <td>280000.0</td>\n",
       "    </tr>\n",
       "    <tr>\n",
       "      <th>1</th>\n",
       "      <td>2</td>\n",
       "      <td>50042000</td>\n",
       "      <td>9.0</td>\n",
       "      <td>40.0</td>\n",
       "      <td>2</td>\n",
       "      <td>1.0</td>\n",
       "      <td>1980.0</td>\n",
       "      <td>1006.0</td>\n",
       "      <td>1</td>\n",
       "      <td>6.0</td>\n",
       "      <td>1.0</td>\n",
       "      <td>0.0</td>\n",
       "      <td>8303.0</td>\n",
       "      <td>233100.0</td>\n",
       "    </tr>\n",
       "    <tr>\n",
       "      <th>2</th>\n",
       "      <td>2</td>\n",
       "      <td>50074000</td>\n",
       "      <td>9.0</td>\n",
       "      <td>40.0</td>\n",
       "      <td>2</td>\n",
       "      <td>1.0</td>\n",
       "      <td>1982.0</td>\n",
       "      <td>1007.0</td>\n",
       "      <td>1</td>\n",
       "      <td>3.0</td>\n",
       "      <td>1.0</td>\n",
       "      <td>0.0</td>\n",
       "      <td>7200.0</td>\n",
       "      <td>215000.0</td>\n",
       "    </tr>\n",
       "    <tr>\n",
       "      <th>3</th>\n",
       "      <td>2</td>\n",
       "      <td>50085000</td>\n",
       "      <td>9.0</td>\n",
       "      <td>40.0</td>\n",
       "      <td>2</td>\n",
       "      <td>1.0</td>\n",
       "      <td>1984.0</td>\n",
       "      <td>1301.0</td>\n",
       "      <td>1</td>\n",
       "      <td>3.0</td>\n",
       "      <td>2.0</td>\n",
       "      <td>0.0</td>\n",
       "      <td>7200.0</td>\n",
       "      <td>150000.0</td>\n",
       "    </tr>\n",
       "    <tr>\n",
       "      <th>4</th>\n",
       "      <td>2</td>\n",
       "      <td>50089000</td>\n",
       "      <td>9.0</td>\n",
       "      <td>40.0</td>\n",
       "      <td>3</td>\n",
       "      <td>2.0</td>\n",
       "      <td>2007.0</td>\n",
       "      <td>2237.0</td>\n",
       "      <td>1</td>\n",
       "      <td>4.0</td>\n",
       "      <td>2.0</td>\n",
       "      <td>1.0</td>\n",
       "      <td>15677.0</td>\n",
       "      <td>400000.0</td>\n",
       "    </tr>\n",
       "    <tr>\n",
       "      <th>...</th>\n",
       "      <td>...</td>\n",
       "      <td>...</td>\n",
       "      <td>...</td>\n",
       "      <td>...</td>\n",
       "      <td>...</td>\n",
       "      <td>...</td>\n",
       "      <td>...</td>\n",
       "      <td>...</td>\n",
       "      <td>...</td>\n",
       "      <td>...</td>\n",
       "      <td>...</td>\n",
       "      <td>...</td>\n",
       "      <td>...</td>\n",
       "      <td>...</td>\n",
       "    </tr>\n",
       "    <tr>\n",
       "      <th>95</th>\n",
       "      <td>2</td>\n",
       "      <td>840286000</td>\n",
       "      <td>9.0</td>\n",
       "      <td>360.0</td>\n",
       "      <td>2</td>\n",
       "      <td>1.0</td>\n",
       "      <td>1958.0</td>\n",
       "      <td>1351.0</td>\n",
       "      <td>1</td>\n",
       "      <td>6.0</td>\n",
       "      <td>1.0</td>\n",
       "      <td>0.0</td>\n",
       "      <td>11712.0</td>\n",
       "      <td>170000.0</td>\n",
       "    </tr>\n",
       "    <tr>\n",
       "      <th>96</th>\n",
       "      <td>2</td>\n",
       "      <td>840345000</td>\n",
       "      <td>9.0</td>\n",
       "      <td>360.0</td>\n",
       "      <td>2</td>\n",
       "      <td>1.0</td>\n",
       "      <td>1960.0</td>\n",
       "      <td>1353.0</td>\n",
       "      <td>1</td>\n",
       "      <td>6.0</td>\n",
       "      <td>1.0</td>\n",
       "      <td>1.0</td>\n",
       "      <td>10304.0</td>\n",
       "      <td>260000.0</td>\n",
       "    </tr>\n",
       "    <tr>\n",
       "      <th>97</th>\n",
       "      <td>2</td>\n",
       "      <td>840358000</td>\n",
       "      <td>9.0</td>\n",
       "      <td>360.0</td>\n",
       "      <td>2</td>\n",
       "      <td>1.0</td>\n",
       "      <td>1956.0</td>\n",
       "      <td>1161.0</td>\n",
       "      <td>1</td>\n",
       "      <td>6.0</td>\n",
       "      <td>3.0</td>\n",
       "      <td>0.0</td>\n",
       "      <td>10125.0</td>\n",
       "      <td>222000.0</td>\n",
       "    </tr>\n",
       "    <tr>\n",
       "      <th>98</th>\n",
       "      <td>2</td>\n",
       "      <td>840359000</td>\n",
       "      <td>9.0</td>\n",
       "      <td>360.0</td>\n",
       "      <td>2</td>\n",
       "      <td>1.0</td>\n",
       "      <td>1958.0</td>\n",
       "      <td>1520.0</td>\n",
       "      <td>1</td>\n",
       "      <td>3.0</td>\n",
       "      <td>1.0</td>\n",
       "      <td>1.0</td>\n",
       "      <td>10125.0</td>\n",
       "      <td>315000.0</td>\n",
       "    </tr>\n",
       "    <tr>\n",
       "      <th>99</th>\n",
       "      <td>2</td>\n",
       "      <td>840362000</td>\n",
       "      <td>9.0</td>\n",
       "      <td>360.0</td>\n",
       "      <td>2</td>\n",
       "      <td>1.0</td>\n",
       "      <td>1964.0</td>\n",
       "      <td>1160.0</td>\n",
       "      <td>1</td>\n",
       "      <td>3.0</td>\n",
       "      <td>1.0</td>\n",
       "      <td>1.0</td>\n",
       "      <td>10125.0</td>\n",
       "      <td>250000.0</td>\n",
       "    </tr>\n",
       "  </tbody>\n",
       "</table>\n",
       "<p>100 rows × 14 columns</p>\n",
       "</div>"
      ],
      "text/plain": [
       "    PropType     taxkey  District   nbhd  Style  Stories  Year_Built  \\\n",
       "0          2   49993200       9.0   40.0      2      1.0      1959.0   \n",
       "1          2   50042000       9.0   40.0      2      1.0      1980.0   \n",
       "2          2   50074000       9.0   40.0      2      1.0      1982.0   \n",
       "3          2   50085000       9.0   40.0      2      1.0      1984.0   \n",
       "4          2   50089000       9.0   40.0      3      2.0      2007.0   \n",
       "..       ...        ...       ...    ...    ...      ...         ...   \n",
       "95         2  840286000       9.0  360.0      2      1.0      1958.0   \n",
       "96         2  840345000       9.0  360.0      2      1.0      1960.0   \n",
       "97         2  840358000       9.0  360.0      2      1.0      1956.0   \n",
       "98         2  840359000       9.0  360.0      2      1.0      1958.0   \n",
       "99         2  840362000       9.0  360.0      2      1.0      1964.0   \n",
       "\n",
       "    FinishedSqft  Units  Bdrms  Fbath  Hbath  Lotsize  Sale_price  \n",
       "0         1334.0      1    3.0    1.0    1.0  83200.0    280000.0  \n",
       "1         1006.0      1    6.0    1.0    0.0   8303.0    233100.0  \n",
       "2         1007.0      1    3.0    1.0    0.0   7200.0    215000.0  \n",
       "3         1301.0      1    3.0    2.0    0.0   7200.0    150000.0  \n",
       "4         2237.0      1    4.0    2.0    1.0  15677.0    400000.0  \n",
       "..           ...    ...    ...    ...    ...      ...         ...  \n",
       "95        1351.0      1    6.0    1.0    0.0  11712.0    170000.0  \n",
       "96        1353.0      1    6.0    1.0    1.0  10304.0    260000.0  \n",
       "97        1161.0      1    6.0    3.0    0.0  10125.0    222000.0  \n",
       "98        1520.0      1    3.0    1.0    1.0  10125.0    315000.0  \n",
       "99        1160.0      1    3.0    1.0    1.0  10125.0    250000.0  \n",
       "\n",
       "[100 rows x 14 columns]"
      ]
     },
     "execution_count": 24,
     "metadata": {},
     "output_type": "execute_result"
    }
   ],
   "source": [
    "df_residential.head(100)"
   ]
  },
  {
   "cell_type": "markdown",
   "id": "fb015597",
   "metadata": {},
   "source": [
    "#### Correlation of Filtered Dataset\n",
    "\n",
    "> <p><b><font color='blue'>Heat map to visualize correlation.</font></b></p>"
   ]
  },
  {
   "cell_type": "code",
   "execution_count": 25,
   "id": "bce553ff",
   "metadata": {},
   "outputs": [
    {
     "name": "stderr",
     "output_type": "stream",
     "text": [
      "C:\\Users\\Garth\\anaconda3\\lib\\site-packages\\seaborn\\matrix.py:260: FutureWarning: Format strings passed to MaskedConstant are ignored, but in future may error or produce different behavior\n",
      "  annotation = (\"{:\" + self.fmt + \"}\").format(val)\n"
     ]
    },
    {
     "data": {
      "image/png": "[encoded data removed]",
      "text/plain": [
       "<Figure size 1000x600 with 2 Axes>"
      ]
     },
     "metadata": {},
     "output_type": "display_data"
    }
   ],
   "source": [
    "# get correlation matrix\n",
    "matrix = df_residential.corr().round(2)\n",
    "\n",
    "# create a heat map of matrix\n",
    "plt.figure(figsize = (10, 6))\n",
    "dataplot = sns.heatmap(matrix, annot=True, cmap=sns.cubehelix_palette(as_cmap=True))\n",
    "plt.show()"
   ]
  },
  {
   "cell_type": "markdown",
   "id": "7114345e",
   "metadata": {},
   "source": [
    "### Removing Outliers.<a id=\"80\"></a> "
   ]
  },
  {
   "cell_type": "markdown",
   "id": "24ed5352",
   "metadata": {},
   "source": [
    "#### <font color='blue'>Create a new dataframe with outliers removed.</font>"
   ]
  },
  {
   "cell_type": "code",
   "execution_count": 26,
   "id": "5dd1df01",
   "metadata": {},
   "outputs": [
    {
     "name": "stderr",
     "output_type": "stream",
     "text": [
      "C:\\Users\\Garth\\anaconda3\\lib\\site-packages\\seaborn\\_oldcore.py:1119: FutureWarning: use_inf_as_na option is deprecated and will be removed in a future version. Convert inf values to NaN before operating instead.\n",
      "  with pd.option_context('mode.use_inf_as_na', True):\n",
      "C:\\Users\\Garth\\anaconda3\\lib\\site-packages\\seaborn\\_oldcore.py:1119: FutureWarning: use_inf_as_na option is deprecated and will be removed in a future version. Convert inf values to NaN before operating instead.\n",
      "  with pd.option_context('mode.use_inf_as_na', True):\n"
     ]
    },
    {
     "data": {
      "image/png": "[encoded data removed]",
      "text/plain": [
       "<Figure size 1000x500 with 4 Axes>"
      ]
     },
     "metadata": {},
     "output_type": "display_data"
    }
   ],
   "source": [
    "# calculate the 25th and 75th percentile\n",
    "Q1 = df.FinishedSqft.quantile(0.25)\n",
    "Q3 = df.FinishedSqft.quantile(0.75)\n",
    "\n",
    "# filter data using percentiles\n",
    "IQR = Q3 - Q1\n",
    "df_wo = df[(df.FinishedSqft >= Q1 - 1.5*IQR) & (df.FinishedSqft <= Q3 + 1.5*IQR)]\n",
    "\n",
    "Q1 = df_wo.Sale_price.quantile(0.25)\n",
    "Q3 = df_wo.Sale_price.quantile(0.75)\n",
    "IQR = Q3 - Q1\n",
    "df_wo = df_wo[(df_wo.Sale_price >= Q1 - 1.5*IQR) & (df_wo.Sale_price <= Q3 + 1.5*IQR)].reset_index()\n",
    "\n",
    "# create three subplots\n",
    "fig, axs = plt.subplots(2,2, figsize = (10,5))\n",
    "\n",
    "# create a boxplot of Finished Square Feet and put on axis 0\n",
    "plt1 = sns.boxplot(df_wo['FinishedSqft'], ax = axs[0,0])\n",
    "plt1.title.set_text('Finished Square Footage')\n",
    "\n",
    "plt2 = sns.boxplot(df_wo['Sale_price'], ax = axs[0,1])\n",
    "plt2.title.set_text('Sale Price (100K)')\n",
    "\n",
    "# create a histogram plot of Sales Price and put on axis 1\n",
    "plt3 = sns.histplot(df_wo[\"Sale_price\"],color='#500050', ax = axs[1,0], kde=True)\n",
    "plt3.title.set_text('Sale Price')\n",
    "\n",
    "# create a histogram plot of Finished Square feet and put on axis 2\n",
    "plt4 = sns.histplot(df_wo[\"FinishedSqft\"],color='#500050', ax = axs[1,1], kde=True)\n",
    "plt4.title.set_text('Finished Square Footage')\n",
    "plt.tight_layout()\n"
   ]
  },
  {
   "cell_type": "markdown",
   "id": "e85df0ff",
   "metadata": {},
   "source": [
    "#### <font color='blue'>Do the same for the residential dataset.</font>"
   ]
  },
  {
   "cell_type": "code",
   "execution_count": 27,
   "id": "01417013-510e-40d6-8f22-7ed5d6d8093a",
   "metadata": {},
   "outputs": [
    {
     "data": {
      "image/png": "[encoded data removed]",
      "text/plain": [
       "<Figure size 1000x500 with 2 Axes>"
      ]
     },
     "metadata": {},
     "output_type": "display_data"
    }
   ],
   "source": [
    "# create two subplots\n",
    "fig, axs = plt.subplots(1,2, figsize = (10,5))\n",
    "\n",
    "# create a box plot of Finished Square feet and put on axis 0\n",
    "\n",
    "plt1 = sns.boxplot(df_residential['FinishedSqft'], ax = axs[0])\n",
    "plt1.title.set_text('Finished Sqft')\n",
    "\n",
    "# create a box plot of Sales Price feet and put on axis 1\n",
    "plt2 = sns.boxplot(df_residential['Sale_price'], ax = axs[1])\n",
    "plt2.title.set_text('Sale Price (100K)')\n",
    "plt.tight_layout()"
   ]
  },
  {
   "cell_type": "code",
   "execution_count": 28,
   "id": "e08e8c00",
   "metadata": {},
   "outputs": [
    {
     "name": "stderr",
     "output_type": "stream",
     "text": [
      "C:\\Users\\Garth\\anaconda3\\lib\\site-packages\\seaborn\\_oldcore.py:1119: FutureWarning: use_inf_as_na option is deprecated and will be removed in a future version. Convert inf values to NaN before operating instead.\n",
      "  with pd.option_context('mode.use_inf_as_na', True):\n",
      "C:\\Users\\Garth\\anaconda3\\lib\\site-packages\\seaborn\\_oldcore.py:1119: FutureWarning: use_inf_as_na option is deprecated and will be removed in a future version. Convert inf values to NaN before operating instead.\n",
      "  with pd.option_context('mode.use_inf_as_na', True):\n"
     ]
    },
    {
     "data": {
      "image/png": "[encoded data removed]",
      "text/plain": [
       "<Figure size 1000x500 with 4 Axes>"
      ]
     },
     "metadata": {},
     "output_type": "display_data"
    }
   ],
   "source": [
    "# calculate the 25th and 75th percentile\n",
    "Q1 = df_residential.FinishedSqft.quantile(0.25)\n",
    "Q3 = df_residential.FinishedSqft.quantile(0.75)\n",
    "\n",
    "# filter data using percentiles\n",
    "IQR = Q3 - Q1\n",
    "df_res_wo = df_residential[(df_residential.FinishedSqft >= Q1 - 1.5*IQR) & (df_residential.FinishedSqft <= Q3 + 1.5*IQR)]\n",
    "\n",
    "Q1 = df_res_wo.Sale_price.quantile(0.25)\n",
    "Q3 = df_res_wo.Sale_price.quantile(0.75)\n",
    "IQR = Q3 - Q1\n",
    "df_res_wo = df_res_wo[(df_res_wo.Sale_price >= Q1 - 1.5*IQR) & (df_res_wo.Sale_price <= Q3 + 1.5*IQR)].reset_index()\n",
    "\n",
    "# create three subplots\n",
    "fig, axs = plt.subplots(2,2, figsize = (10,5))\n",
    "\n",
    "# create a boxplot of Finished Square Feet and put on axis 0\n",
    "plt1 = sns.boxplot(df_res_wo['FinishedSqft'], ax = axs[0,0])\n",
    "plt1.title.set_text('Finished Square Footage')\n",
    "\n",
    "plt2 = sns.boxplot(df_res_wo['Sale_price'], ax = axs[0,1])\n",
    "plt2.title.set_text('Sale Price (100K)')\n",
    "\n",
    "# create a histogram plot of Sales Price and put on axis 1\n",
    "plt3 = sns.histplot(df_res_wo[\"Sale_price\"],color='#500050', ax = axs[1,0], kde=True)\n",
    "plt3.title.set_text('Sale Price')\n",
    "\n",
    "# create a histogram plot of Finished Square feet and put on axis 2\n",
    "plt4 = sns.histplot(df_res_wo[\"FinishedSqft\"],color='#500050', ax = axs[1,1], kde=True)\n",
    "plt4.title.set_text('Finished Square Footage')\n",
    "plt.tight_layout()"
   ]
  },
  {
   "cell_type": "markdown",
   "id": "bc97ef5c",
   "metadata": {},
   "source": [
    "> <p><b><font color='blue'>Finished square feet is positively skewed.</font></b></p>\n",
    "> <p><b><font color='blue'>The majority of homes being sold seem to be in a narrow range of square footage and price.</font></b></p>"
   ]
  },
  {
   "cell_type": "markdown",
   "id": "3432ea51",
   "metadata": {},
   "source": [
    "### Apply Log Transformation to Finished Square Footage to Reduce Skewness.<a id=\"90\"></a> "
   ]
  },
  {
   "cell_type": "code",
   "execution_count": 29,
   "id": "d167b976",
   "metadata": {},
   "outputs": [
    {
     "name": "stderr",
     "output_type": "stream",
     "text": [
      "C:\\Users\\Garth\\anaconda3\\lib\\site-packages\\pandas\\core\\arraylike.py:396: RuntimeWarning: divide by zero encountered in log\n",
      "  result = getattr(ufunc, method)(*inputs, **kwargs)\n",
      "C:\\Users\\Garth\\anaconda3\\lib\\site-packages\\seaborn\\_oldcore.py:1119: FutureWarning: use_inf_as_na option is deprecated and will be removed in a future version. Convert inf values to NaN before operating instead.\n",
      "  with pd.option_context('mode.use_inf_as_na', True):\n"
     ]
    },
    {
     "data": {
      "image/png": "[encoded data removed]",
      "text/plain": [
       "<Figure size 640x480 with 1 Axes>"
      ]
     },
     "metadata": {},
     "output_type": "display_data"
    }
   ],
   "source": [
    "df_wo_lg = df_wo.copy()\n",
    "df_wo_lg['FinishedSqft'] = np.log(df_wo['FinishedSqft'])\n",
    "\n",
    "# create a histogram plot of Finished Square feet and put on axis 2\n",
    "hist_plt = sns.histplot(df_wo_lg[\"FinishedSqft\"],color='#500050')\n",
    "hist_plt.title.set_text('Finished Square Footage')"
   ]
  },
  {
   "cell_type": "code",
   "execution_count": 30,
   "id": "6ac6f5ca",
   "metadata": {},
   "outputs": [
    {
     "name": "stderr",
     "output_type": "stream",
     "text": [
      "C:\\Users\\Garth\\anaconda3\\lib\\site-packages\\pandas\\core\\arraylike.py:396: RuntimeWarning: divide by zero encountered in log\n",
      "  result = getattr(ufunc, method)(*inputs, **kwargs)\n",
      "C:\\Users\\Garth\\anaconda3\\lib\\site-packages\\seaborn\\_oldcore.py:1119: FutureWarning: use_inf_as_na option is deprecated and will be removed in a future version. Convert inf values to NaN before operating instead.\n",
      "  with pd.option_context('mode.use_inf_as_na', True):\n"
     ]
    },
    {
     "data": {
      "image/png": "[encoded data removed]",
      "text/plain": [
       "<Figure size 640x480 with 1 Axes>"
      ]
     },
     "metadata": {},
     "output_type": "display_data"
    }
   ],
   "source": [
    "df_res_wo_lg = df_res_wo.copy()\n",
    "df_res_wo_lg['FinishedSqft'] = np.log(df_res_wo['FinishedSqft'])\n",
    "\n",
    "# create a histogram plot of Finished Square feet and put on axis 2\n",
    "hist_plt = sns.histplot(df_res_wo_lg[\"FinishedSqft\"],color='#500050')\n",
    "hist_plt.title.set_text('Finished Square Footage')"
   ]
  },
  {
   "cell_type": "markdown",
   "id": "75e01720-b948-4f10-95d5-1eccb49ffeeb",
   "metadata": {},
   "source": [
    "### Categorical Variables<a id=\"95\"></a>"
   ]
  },
  {
   "cell_type": "markdown",
   "id": "54edfe17-b336-403a-9500-b1194bd22434",
   "metadata": {},
   "source": [
    "<font color='blue'>There are four categorical variables:<br>\n",
    "    &emsp;&emsp;taxkey<br>\n",
    "    &emsp;&emsp;District<br>\n",
    "    &emsp;&emsp;nbhd<br>\n",
    "    &emsp;&emsp;Style<br></font>"
   ]
  },
  {
   "cell_type": "code",
   "execution_count": 31,
   "id": "13b814b4-0f0e-4b0b-a022-4e1f4d08d077",
   "metadata": {},
   "outputs": [],
   "source": [
    "df = pd.get_dummies(\n",
    "    dtype=int,\n",
    "    data=df,\n",
    "    columns=[\"taxkey\", \"District\", \"nbhd\", \"Style\"],\n",
    "    prefix=[\"t\", \"d\",\"n\",\"s\"])"
   ]
  },
  {
   "cell_type": "code",
   "execution_count": 32,
   "id": "35d6b85c-8e9a-4222-a2c3-73d305b3c7c8",
   "metadata": {},
   "outputs": [
    {
     "data": {
      "text/html": [
       "<div>\n",
       "<style scoped>\n",
       "    .dataframe tbody tr th:only-of-type {\n",
       "        vertical-align: middle;\n",
       "    }\n",
       "\n",
       "    .dataframe tbody tr th {\n",
       "        vertical-align: top;\n",
       "    }\n",
       "\n",
       "    .dataframe thead th {\n",
       "        text-align: right;\n",
       "    }\n",
       "</style>\n",
       "<table border=\"1\" class=\"dataframe\">\n",
       "  <thead>\n",
       "    <tr style=\"text-align: right;\">\n",
       "      <th></th>\n",
       "      <th>PropType</th>\n",
       "      <th>Stories</th>\n",
       "      <th>Year_Built</th>\n",
       "      <th>FinishedSqft</th>\n",
       "      <th>Units</th>\n",
       "      <th>Bdrms</th>\n",
       "      <th>Fbath</th>\n",
       "      <th>Hbath</th>\n",
       "      <th>Lotsize</th>\n",
       "      <th>Sale_price</th>\n",
       "      <th>...</th>\n",
       "      <th>s_193</th>\n",
       "      <th>s_194</th>\n",
       "      <th>s_195</th>\n",
       "      <th>s_196</th>\n",
       "      <th>s_197</th>\n",
       "      <th>s_198</th>\n",
       "      <th>s_200</th>\n",
       "      <th>s_201</th>\n",
       "      <th>s_202</th>\n",
       "      <th>s_203</th>\n",
       "    </tr>\n",
       "  </thead>\n",
       "  <tbody>\n",
       "    <tr>\n",
       "      <th>1</th>\n",
       "      <td>1</td>\n",
       "      <td>1.0</td>\n",
       "      <td>1982.0</td>\n",
       "      <td>9688.0</td>\n",
       "      <td>23</td>\n",
       "      <td>1.0</td>\n",
       "      <td>0.0</td>\n",
       "      <td>0.0</td>\n",
       "      <td>35719.0</td>\n",
       "      <td>385000.0</td>\n",
       "      <td>...</td>\n",
       "      <td>0</td>\n",
       "      <td>0</td>\n",
       "      <td>0</td>\n",
       "      <td>0</td>\n",
       "      <td>0</td>\n",
       "      <td>0</td>\n",
       "      <td>0</td>\n",
       "      <td>0</td>\n",
       "      <td>0</td>\n",
       "      <td>0</td>\n",
       "    </tr>\n",
       "    <tr>\n",
       "      <th>3</th>\n",
       "      <td>2</td>\n",
       "      <td>1.0</td>\n",
       "      <td>1959.0</td>\n",
       "      <td>1334.0</td>\n",
       "      <td>1</td>\n",
       "      <td>3.0</td>\n",
       "      <td>1.0</td>\n",
       "      <td>1.0</td>\n",
       "      <td>83200.0</td>\n",
       "      <td>280000.0</td>\n",
       "      <td>...</td>\n",
       "      <td>0</td>\n",
       "      <td>0</td>\n",
       "      <td>0</td>\n",
       "      <td>0</td>\n",
       "      <td>0</td>\n",
       "      <td>0</td>\n",
       "      <td>0</td>\n",
       "      <td>0</td>\n",
       "      <td>0</td>\n",
       "      <td>0</td>\n",
       "    </tr>\n",
       "    <tr>\n",
       "      <th>4</th>\n",
       "      <td>2</td>\n",
       "      <td>1.0</td>\n",
       "      <td>1980.0</td>\n",
       "      <td>1006.0</td>\n",
       "      <td>1</td>\n",
       "      <td>6.0</td>\n",
       "      <td>1.0</td>\n",
       "      <td>0.0</td>\n",
       "      <td>8303.0</td>\n",
       "      <td>233100.0</td>\n",
       "      <td>...</td>\n",
       "      <td>0</td>\n",
       "      <td>0</td>\n",
       "      <td>0</td>\n",
       "      <td>0</td>\n",
       "      <td>0</td>\n",
       "      <td>0</td>\n",
       "      <td>0</td>\n",
       "      <td>0</td>\n",
       "      <td>0</td>\n",
       "      <td>0</td>\n",
       "    </tr>\n",
       "    <tr>\n",
       "      <th>5</th>\n",
       "      <td>2</td>\n",
       "      <td>1.0</td>\n",
       "      <td>1982.0</td>\n",
       "      <td>1007.0</td>\n",
       "      <td>1</td>\n",
       "      <td>3.0</td>\n",
       "      <td>1.0</td>\n",
       "      <td>0.0</td>\n",
       "      <td>7200.0</td>\n",
       "      <td>215000.0</td>\n",
       "      <td>...</td>\n",
       "      <td>0</td>\n",
       "      <td>0</td>\n",
       "      <td>0</td>\n",
       "      <td>0</td>\n",
       "      <td>0</td>\n",
       "      <td>0</td>\n",
       "      <td>0</td>\n",
       "      <td>0</td>\n",
       "      <td>0</td>\n",
       "      <td>0</td>\n",
       "    </tr>\n",
       "    <tr>\n",
       "      <th>6</th>\n",
       "      <td>2</td>\n",
       "      <td>1.0</td>\n",
       "      <td>1984.0</td>\n",
       "      <td>1301.0</td>\n",
       "      <td>1</td>\n",
       "      <td>3.0</td>\n",
       "      <td>2.0</td>\n",
       "      <td>0.0</td>\n",
       "      <td>7200.0</td>\n",
       "      <td>150000.0</td>\n",
       "      <td>...</td>\n",
       "      <td>0</td>\n",
       "      <td>0</td>\n",
       "      <td>0</td>\n",
       "      <td>0</td>\n",
       "      <td>0</td>\n",
       "      <td>0</td>\n",
       "      <td>0</td>\n",
       "      <td>0</td>\n",
       "      <td>0</td>\n",
       "      <td>0</td>\n",
       "    </tr>\n",
       "  </tbody>\n",
       "</table>\n",
       "<p>5 rows × 20422 columns</p>\n",
       "</div>"
      ],
      "text/plain": [
       "   PropType  Stories  Year_Built  FinishedSqft  Units  Bdrms  Fbath  Hbath  \\\n",
       "1         1      1.0      1982.0        9688.0     23    1.0    0.0    0.0   \n",
       "3         2      1.0      1959.0        1334.0      1    3.0    1.0    1.0   \n",
       "4         2      1.0      1980.0        1006.0      1    6.0    1.0    0.0   \n",
       "5         2      1.0      1982.0        1007.0      1    3.0    1.0    0.0   \n",
       "6         2      1.0      1984.0        1301.0      1    3.0    2.0    0.0   \n",
       "\n",
       "   Lotsize  Sale_price  ...  s_193  s_194  s_195  s_196  s_197  s_198  s_200  \\\n",
       "1  35719.0    385000.0  ...      0      0      0      0      0      0      0   \n",
       "3  83200.0    280000.0  ...      0      0      0      0      0      0      0   \n",
       "4   8303.0    233100.0  ...      0      0      0      0      0      0      0   \n",
       "5   7200.0    215000.0  ...      0      0      0      0      0      0      0   \n",
       "6   7200.0    150000.0  ...      0      0      0      0      0      0      0   \n",
       "\n",
       "   s_201  s_202  s_203  \n",
       "1      0      0      0  \n",
       "3      0      0      0  \n",
       "4      0      0      0  \n",
       "5      0      0      0  \n",
       "6      0      0      0  \n",
       "\n",
       "[5 rows x 20422 columns]"
      ]
     },
     "execution_count": 32,
     "metadata": {},
     "output_type": "execute_result"
    }
   ],
   "source": [
    "df.head()"
   ]
  },
  {
   "cell_type": "markdown",
   "id": "207d2d2e",
   "metadata": {},
   "source": [
    "### Reordering Columns.<a id=\"100\"></a>\n",
    "\n",
    "<font color='blue'>Move the sale price column to the front to also make analysis easier.</font>"
   ]
  },
  {
   "cell_type": "code",
   "execution_count": 33,
   "id": "fbe624e6",
   "metadata": {},
   "outputs": [],
   "source": [
    "# remove Sale_price column and store in variable \n",
    "first_column = df_residential.pop('Sale_price') \n",
    "  \n",
    "# insert Sale_price into first position\n",
    "df_residential.insert(0, 'Sale_price', first_column) "
   ]
  },
  {
   "cell_type": "markdown",
   "id": "9416329f-f38b-433e-b66a-333531fa60ba",
   "metadata": {},
   "source": [
    "### Milestone 3<a id=\"200\"></a>"
   ]
  },
  {
   "cell_type": "markdown",
   "id": "a28c7b9a-7a4e-4450-bb21-c738a7c8a354",
   "metadata": {},
   "source": [
    "### House Price Prediction<a id=\"210\"></a>"
   ]
  },
  {
   "cell_type": "markdown",
   "id": "28fb6b50-88cc-48e4-9386-f93edc3a0e76",
   "metadata": {},
   "source": [
    "<font color='blue'>Linear regression models were chosen since the target value, sale price, is numeric.</font>"
   ]
  },
  {
   "cell_type": "markdown",
   "id": "0c2c1e7a-0457-45f6-b2be-12bda7215625",
   "metadata": {},
   "source": [
    "#### Linear Regression<a id=\"220\"></a>"
   ]
  },
  {
   "cell_type": "markdown",
   "id": "a523b63b-e985-42a2-87a0-980a5ccc4664",
   "metadata": {},
   "source": [
    "#### <font color='blue'> 1. The First Linear Regression model uses the original dataset.</font>\n",
    "\n",
    "<font color='blue'> &emsp;Dataset is split into test and training sets.</font>"
   ]
  },
  {
   "cell_type": "code",
   "execution_count": 34,
   "id": "9fd4c373-8bbb-4ecb-9355-06b0e4a2d7f4",
   "metadata": {},
   "outputs": [],
   "source": [
    "from sklearn.model_selection import train_test_split\n",
    "x = df.drop(['Sale_price'],axis=1).values\n",
    "y = df['Sale_price'].values\n",
    "x_train,x_test,y_train,y_test = train_test_split(x, y, test_size=0.2,random_state=0)"
   ]
  },
  {
   "cell_type": "markdown",
   "id": "a312e025-4616-4c2a-8532-65267e11dad0",
   "metadata": {},
   "source": [
    "<font color='blue'>&emsp;Create a linear regression model from train data.</font>"
   ]
  },
  {
   "cell_type": "code",
   "execution_count": 35,
   "id": "d0664e78-d677-4353-889f-1fc0f5d61eee",
   "metadata": {},
   "outputs": [],
   "source": [
    "from pandas import Series, DataFrame\n",
    "\n",
    "# importing linear regressionfrom sklearn\n",
    "from sklearn.linear_model import LinearRegression\n",
    "lreg = LinearRegression()\n",
    "\n",
    "#training the model\n",
    "lreg.fit(x_train, y_train)\n",
    "#predicting on cv\n",
    "pred = lreg.predict(x_test)\n",
    "#calculating mse\n",
    "mse = np.mean((pred - y_test)**2)"
   ]
  },
  {
   "cell_type": "markdown",
   "id": "cd309772-c8d0-48fb-8ce9-4f824453c572",
   "metadata": {},
   "source": [
    "<font color='blue'>&emsp;Get the MSE and Accuracy Values<font>"
   ]
  },
  {
   "cell_type": "code",
   "execution_count": 36,
   "id": "11cade4b-d8e0-4fbf-9f89-b9b6aebc0e7d",
   "metadata": {},
   "outputs": [
    {
     "name": "stdout",
     "output_type": "stream",
     "text": [
      "MSE: 101062221517569.34\n",
      "Accuracy: -74.60785239229823\n"
     ]
    }
   ],
   "source": [
    "print(f'MSE: {mse}')\n",
    "accuracy = lreg.score(x_test, y_test)\n",
    "print(f'Accuracy: {accuracy}')"
   ]
  },
  {
   "cell_type": "markdown",
   "id": "ba903377-6b96-4d63-99b8-17081d847c67",
   "metadata": {},
   "source": [
    "#### <font color='blue'>2. The second Linear Regression model uses data without outliers.</font>\n",
    "\n",
    "<font color='blue'>&emsp;Split data into test and train datasets.</font>"
   ]
  },
  {
   "cell_type": "code",
   "execution_count": 37,
   "id": "33d3ed5a-7985-479e-8b5b-b8fc9392725d",
   "metadata": {},
   "outputs": [],
   "source": [
    "from sklearn.model_selection import train_test_split\n",
    "x = df_wo.drop(['Sale_price'],axis=1).values\n",
    "y = df_wo['Sale_price'].values\n",
    "x_train,x_test,y_train,y_test = train_test_split(x, y, test_size=0.2,random_state=0)"
   ]
  },
  {
   "cell_type": "markdown",
   "id": "ea92b8e9-ae66-4a20-a91a-01d806dc31af",
   "metadata": {},
   "source": [
    "<font color='blue'>&emsp;Create a linear regression model from train data.</font>"
   ]
  },
  {
   "cell_type": "code",
   "execution_count": 38,
   "id": "a9575cbe-becd-4b21-8f0d-a584194e665f",
   "metadata": {},
   "outputs": [],
   "source": [
    "from pandas import Series, DataFrame\n",
    "\n",
    "# importing linear regressionfrom sklearn\n",
    "from sklearn.linear_model import LinearRegression\n",
    "lreg = LinearRegression()"
   ]
  },
  {
   "cell_type": "markdown",
   "id": "ab5c6a8c-51b9-4eab-a0cb-87c57379d5fd",
   "metadata": {},
   "source": [
    "<font color='blue'>&emsp;Get the MSE and Accuracy Values<font>"
   ]
  },
  {
   "cell_type": "code",
   "execution_count": 39,
   "id": "b6a271c1-5727-4f13-b68b-15d9dd592d8a",
   "metadata": {},
   "outputs": [],
   "source": [
    "#training the model\n",
    "lreg.fit(x_train, y_train)\n",
    "#predicting on cv\n",
    "pred = lreg.predict(x_test)\n",
    "#calculating mse\n",
    "mse = np.mean((pred - y_test)**2)"
   ]
  },
  {
   "cell_type": "code",
   "execution_count": 40,
   "id": "568a5827-ab6c-49ca-a250-eb3594ac1c68",
   "metadata": {},
   "outputs": [
    {
     "name": "stdout",
     "output_type": "stream",
     "text": [
      "MSE: 3919191585.746163\n",
      "Accuracy: 0.23341230185472972\n"
     ]
    }
   ],
   "source": [
    "print(f'MSE: {mse}')\n",
    "accuracy = lreg.score(x_test, y_test)\n",
    "print(f'Accuracy: {accuracy}')"
   ]
  },
  {
   "cell_type": "markdown",
   "id": "7aa9417d-cfca-4903-bfe9-120e5ae086e3",
   "metadata": {},
   "source": [
    "#### <font color='blue'>3. The third Linear Regression model uses residential sales data only.</font>\n",
    "\n",
    "<font color='blue'>&emsp;Split data into test and train datasets.</font>"
   ]
  },
  {
   "cell_type": "code",
   "execution_count": 41,
   "id": "05513c53-9ef6-4d54-91aa-76e8b3a92ebe",
   "metadata": {},
   "outputs": [],
   "source": [
    "from sklearn.model_selection import train_test_split\n",
    "x = df_residential.drop(['Sale_price'],axis=1).values\n",
    "y = df_residential['Sale_price'].values\n",
    "x_train,x_test,y_train,y_test = train_test_split(x, y, test_size=0.2,random_state=0)"
   ]
  },
  {
   "cell_type": "markdown",
   "id": "79a71dab-569f-42ea-b14c-4a79d4a0404a",
   "metadata": {},
   "source": [
    "#### <font color='blue'>&emsp;Create a linear regression model from train data.</font>"
   ]
  },
  {
   "cell_type": "code",
   "execution_count": 42,
   "id": "ae9fe993-8d34-49d9-b5cf-6a2ca1d7d426",
   "metadata": {},
   "outputs": [],
   "source": [
    "from pandas import Series, DataFrame\n",
    "\n",
    "# importing linear regressionfrom sklearn\n",
    "from sklearn.linear_model import LinearRegression\n",
    "lreg = LinearRegression()\n",
    "\n",
    "#training the model\n",
    "lreg.fit(x_train, y_train)\n",
    "#predicting on cv\n",
    "pred = lreg.predict(x_test)\n",
    "#calculating mse\n",
    "mse = np.mean((pred - y_test)**2)"
   ]
  },
  {
   "cell_type": "markdown",
   "id": "044867b4-0b25-4b20-b27c-1df0823b0fba",
   "metadata": {},
   "source": [
    "<font color='blue'>&emsp;Get the MSE and Accuracy Values<font>"
   ]
  },
  {
   "cell_type": "code",
   "execution_count": 43,
   "id": "35c5713d-1e3f-4ded-970d-b291cca3eb1b",
   "metadata": {},
   "outputs": [
    {
     "name": "stdout",
     "output_type": "stream",
     "text": [
      "MSE: 5291894406.617177\n",
      "Accuracy: 0.44341999210247607\n"
     ]
    }
   ],
   "source": [
    "print(f'MSE: {mse}')\n",
    "accuracy = lreg.score(x_test, y_test)\n",
    "print(f'Accuracy: {accuracy}')"
   ]
  },
  {
   "cell_type": "markdown",
   "id": "eac3af95-ed94-488c-a766-95b34597c12c",
   "metadata": {},
   "source": [
    "#### <font color='blue'>4. The fourth Linear Regression model uses residential sales data without outliers.</font>\n",
    "\n",
    "<font color='blue'>&emsp;Split into test and train datasets.</font>"
   ]
  },
  {
   "cell_type": "code",
   "execution_count": 44,
   "id": "f6c689d9-5582-4fc3-afe1-9a8361ece843",
   "metadata": {},
   "outputs": [],
   "source": [
    "from sklearn.model_selection import train_test_split\n",
    "x = df_res_wo.drop(['Sale_price'],axis=1).values\n",
    "y = df_res_wo['Sale_price'].values\n",
    "x_train,x_test,y_train,y_test = train_test_split(x, y, test_size=0.2,random_state=0)"
   ]
  },
  {
   "cell_type": "markdown",
   "id": "0211726d-59b9-4d3a-ad74-c723eb2d217f",
   "metadata": {},
   "source": [
    "<font color='blue'>&emsp;Create a linear regression model from train data.</font>"
   ]
  },
  {
   "cell_type": "code",
   "execution_count": 45,
   "id": "258fe888-7b26-47bb-b5ad-c0803d19ab7b",
   "metadata": {},
   "outputs": [],
   "source": [
    "from pandas import Series, DataFrame\n",
    "\n",
    "# importing linear regressionfrom sklearn\n",
    "from sklearn.linear_model import LinearRegression\n",
    "lreg = LinearRegression()\n",
    "\n",
    "#training the model\n",
    "lreg.fit(x_train, y_train)\n",
    "#predicting on cv\n",
    "pred = lreg.predict(x_test)\n",
    "#calculating mse\n",
    "mse = np.mean((pred - y_test)**2)"
   ]
  },
  {
   "cell_type": "markdown",
   "id": "b98b2340-f91d-4b0d-910a-031e4fd49c40",
   "metadata": {},
   "source": [
    "<font color='blue'>&emsp;Get the MSE and Accuracy Values<font>"
   ]
  },
  {
   "cell_type": "code",
   "execution_count": 46,
   "id": "36eef9f2-f1e9-4c96-bce7-a54412c1aa37",
   "metadata": {},
   "outputs": [
    {
     "name": "stdout",
     "output_type": "stream",
     "text": [
      "MSE: 3171513471.531673\n",
      "Accuracy: 0.33927905105909406\n"
     ]
    }
   ],
   "source": [
    "print(f'MSE: {mse}')\n",
    "accuracy = lreg.score(x_test, y_test)\n",
    "print(f'Accuracy: {accuracy}')"
   ]
  },
  {
   "cell_type": "markdown",
   "id": "40745073-5417-4989-83af-44fcb2a3976a",
   "metadata": {},
   "source": [
    "#### Random Forest Regression<a id=\"230\"></a>"
   ]
  },
  {
   "cell_type": "markdown",
   "id": "58a3a1dc-487c-4c35-af78-e738827b840a",
   "metadata": {},
   "source": [
    "#### <font color='blue'>5. The first Random Forest Regression model uses the original dataset.</font>\n",
    "\n",
    "<font color='blue'>&emsp;Create a Random Forest Regression model</font>"
   ]
  },
  {
   "cell_type": "code",
   "execution_count": 47,
   "id": "b256c443-523d-4cc4-a22e-71d446108f0b",
   "metadata": {},
   "outputs": [],
   "source": [
    "from sklearn.ensemble import RandomForestRegressor\n",
    "\n",
    "regressor = RandomForestRegressor(n_estimators=10, random_state=0, oob_score=True)"
   ]
  },
  {
   "cell_type": "code",
   "execution_count": 48,
   "id": "b588def0-87e4-447f-a4dd-d3dedf910f27",
   "metadata": {},
   "outputs": [
    {
     "name": "stderr",
     "output_type": "stream",
     "text": [
      "C:\\Users\\Garth\\anaconda3\\lib\\site-packages\\sklearn\\ensemble\\_forest.py:615: UserWarning: Some inputs do not have OOB scores. This probably means too few trees were used to compute any reliable OOB estimates.\n",
      "  warn(\n"
     ]
    },
    {
     "data": {
      "text/html": [
       "<style>#sk-container-id-1 {\n",
       "  /* Definition of color scheme common for light and dark mode */\n",
       "  --sklearn-color-text: black;\n",
       "  --sklearn-color-line: gray;\n",
       "  /* Definition of color scheme for unfitted estimators */\n",
       "  --sklearn-color-unfitted-level-0: #fff5e6;\n",
       "  --sklearn-color-unfitted-level-1: #f6e4d2;\n",
       "  --sklearn-color-unfitted-level-2: #ffe0b3;\n",
       "  --sklearn-color-unfitted-level-3: chocolate;\n",
       "  /* Definition of color scheme for fitted estimators */\n",
       "  --sklearn-color-fitted-level-0: #f0f8ff;\n",
       "  --sklearn-color-fitted-level-1: #d4ebff;\n",
       "  --sklearn-color-fitted-level-2: #b3dbfd;\n",
       "  --sklearn-color-fitted-level-3: cornflowerblue;\n",
       "\n",
       "  /* Specific color for light theme */\n",
       "  --sklearn-color-text-on-default-background: var(--sg-text-color, var(--theme-code-foreground, var(--jp-content-font-color1, black)));\n",
       "  --sklearn-color-background: var(--sg-background-color, var(--theme-background, var(--jp-layout-color0, white)));\n",
       "  --sklearn-color-border-box: var(--sg-text-color, var(--theme-code-foreground, var(--jp-content-font-color1, black)));\n",
       "  --sklearn-color-icon: #696969;\n",
       "\n",
       "  @media (prefers-color-scheme: dark) {\n",
       "    /* Redefinition of color scheme for dark theme */\n",
       "    --sklearn-color-text-on-default-background: var(--sg-text-color, var(--theme-code-foreground, var(--jp-content-font-color1, white)));\n",
       "    --sklearn-color-background: var(--sg-background-color, var(--theme-background, var(--jp-layout-color0, #111)));\n",
       "    --sklearn-color-border-box: var(--sg-text-color, var(--theme-code-foreground, var(--jp-content-font-color1, white)));\n",
       "    --sklearn-color-icon: #878787;\n",
       "  }\n",
       "}\n",
       "\n",
       "#sk-container-id-1 {\n",
       "  color: var(--sklearn-color-text);\n",
       "}\n",
       "\n",
       "#sk-container-id-1 pre {\n",
       "  padding: 0;\n",
       "}\n",
       "\n",
       "#sk-container-id-1 input.sk-hidden--visually {\n",
       "  border: 0;\n",
       "  clip: rect(1px 1px 1px 1px);\n",
       "  clip: rect(1px, 1px, 1px, 1px);\n",
       "  height: 1px;\n",
       "  margin: -1px;\n",
       "  overflow: hidden;\n",
       "  padding: 0;\n",
       "  position: absolute;\n",
       "  width: 1px;\n",
       "}\n",
       "\n",
       "#sk-container-id-1 div.sk-dashed-wrapped {\n",
       "  border: 1px dashed var(--sklearn-color-line);\n",
       "  margin: 0 0.4em 0.5em 0.4em;\n",
       "  box-sizing: border-box;\n",
       "  padding-bottom: 0.4em;\n",
       "  background-color: var(--sklearn-color-background);\n",
       "}\n",
       "\n",
       "#sk-container-id-1 div.sk-container {\n",
       "  /* jupyter's `normalize.less` sets `[hidden] { display: none; }`\n",
       "     but bootstrap.min.css set `[hidden] { display: none !important; }`\n",
       "     so we also need the `!important` here to be able to override the\n",
       "     default hidden behavior on the sphinx rendered scikit-learn.org.\n",
       "     See: https://github.com/scikit-learn/scikit-learn/issues/21755 */\n",
       "  display: inline-block !important;\n",
       "  position: relative;\n",
       "}\n",
       "\n",
       "#sk-container-id-1 div.sk-text-repr-fallback {\n",
       "  display: none;\n",
       "}\n",
       "\n",
       "div.sk-parallel-item,\n",
       "div.sk-serial,\n",
       "div.sk-item {\n",
       "  /* draw centered vertical line to link estimators */\n",
       "  background-image: linear-gradient(var(--sklearn-color-text-on-default-background), var(--sklearn-color-text-on-default-background));\n",
       "  background-size: 2px 100%;\n",
       "  background-repeat: no-repeat;\n",
       "  background-position: center center;\n",
       "}\n",
       "\n",
       "/* Parallel-specific style estimator block */\n",
       "\n",
       "#sk-container-id-1 div.sk-parallel-item::after {\n",
       "  content: \"\";\n",
       "  width: 100%;\n",
       "  border-bottom: 2px solid var(--sklearn-color-text-on-default-background);\n",
       "  flex-grow: 1;\n",
       "}\n",
       "\n",
       "#sk-container-id-1 div.sk-parallel {\n",
       "  display: flex;\n",
       "  align-items: stretch;\n",
       "  justify-content: center;\n",
       "  background-color: var(--sklearn-color-background);\n",
       "  position: relative;\n",
       "}\n",
       "\n",
       "#sk-container-id-1 div.sk-parallel-item {\n",
       "  display: flex;\n",
       "  flex-direction: column;\n",
       "}\n",
       "\n",
       "#sk-container-id-1 div.sk-parallel-item:first-child::after {\n",
       "  align-self: flex-end;\n",
       "  width: 50%;\n",
       "}\n",
       "\n",
       "#sk-container-id-1 div.sk-parallel-item:last-child::after {\n",
       "  align-self: flex-start;\n",
       "  width: 50%;\n",
       "}\n",
       "\n",
       "#sk-container-id-1 div.sk-parallel-item:only-child::after {\n",
       "  width: 0;\n",
       "}\n",
       "\n",
       "/* Serial-specific style estimator block */\n",
       "\n",
       "#sk-container-id-1 div.sk-serial {\n",
       "  display: flex;\n",
       "  flex-direction: column;\n",
       "  align-items: center;\n",
       "  background-color: var(--sklearn-color-background);\n",
       "  padding-right: 1em;\n",
       "  padding-left: 1em;\n",
       "}\n",
       "\n",
       "\n",
       "/* Toggleable style: style used for estimator/Pipeline/ColumnTransformer box that is\n",
       "clickable and can be expanded/collapsed.\n",
       "- Pipeline and ColumnTransformer use this feature and define the default style\n",
       "- Estimators will overwrite some part of the style using the `sk-estimator` class\n",
       "*/\n",
       "\n",
       "/* Pipeline and ColumnTransformer style (default) */\n",
       "\n",
       "#sk-container-id-1 div.sk-toggleable {\n",
       "  /* Default theme specific background. It is overwritten whether we have a\n",
       "  specific estimator or a Pipeline/ColumnTransformer */\n",
       "  background-color: var(--sklearn-color-background);\n",
       "}\n",
       "\n",
       "/* Toggleable label */\n",
       "#sk-container-id-1 label.sk-toggleable__label {\n",
       "  cursor: pointer;\n",
       "  display: block;\n",
       "  width: 100%;\n",
       "  margin-bottom: 0;\n",
       "  padding: 0.5em;\n",
       "  box-sizing: border-box;\n",
       "  text-align: center;\n",
       "}\n",
       "\n",
       "#sk-container-id-1 label.sk-toggleable__label-arrow:before {\n",
       "  /* Arrow on the left of the label */\n",
       "  content: \"▸\";\n",
       "  float: left;\n",
       "  margin-right: 0.25em;\n",
       "  color: var(--sklearn-color-icon);\n",
       "}\n",
       "\n",
       "#sk-container-id-1 label.sk-toggleable__label-arrow:hover:before {\n",
       "  color: var(--sklearn-color-text);\n",
       "}\n",
       "\n",
       "/* Toggleable content - dropdown */\n",
       "\n",
       "#sk-container-id-1 div.sk-toggleable__content {\n",
       "  max-height: 0;\n",
       "  max-width: 0;\n",
       "  overflow: hidden;\n",
       "  text-align: left;\n",
       "  /* unfitted */\n",
       "  background-color: var(--sklearn-color-unfitted-level-0);\n",
       "}\n",
       "\n",
       "#sk-container-id-1 div.sk-toggleable__content.fitted {\n",
       "  /* fitted */\n",
       "  background-color: var(--sklearn-color-fitted-level-0);\n",
       "}\n",
       "\n",
       "#sk-container-id-1 div.sk-toggleable__content pre {\n",
       "  margin: 0.2em;\n",
       "  border-radius: 0.25em;\n",
       "  color: var(--sklearn-color-text);\n",
       "  /* unfitted */\n",
       "  background-color: var(--sklearn-color-unfitted-level-0);\n",
       "}\n",
       "\n",
       "#sk-container-id-1 div.sk-toggleable__content.fitted pre {\n",
       "  /* unfitted */\n",
       "  background-color: var(--sklearn-color-fitted-level-0);\n",
       "}\n",
       "\n",
       "#sk-container-id-1 input.sk-toggleable__control:checked~div.sk-toggleable__content {\n",
       "  /* Expand drop-down */\n",
       "  max-height: 200px;\n",
       "  max-width: 100%;\n",
       "  overflow: auto;\n",
       "}\n",
       "\n",
       "#sk-container-id-1 input.sk-toggleable__control:checked~label.sk-toggleable__label-arrow:before {\n",
       "  content: \"▾\";\n",
       "}\n",
       "\n",
       "/* Pipeline/ColumnTransformer-specific style */\n",
       "\n",
       "#sk-container-id-1 div.sk-label input.sk-toggleable__control:checked~label.sk-toggleable__label {\n",
       "  color: var(--sklearn-color-text);\n",
       "  background-color: var(--sklearn-color-unfitted-level-2);\n",
       "}\n",
       "\n",
       "#sk-container-id-1 div.sk-label.fitted input.sk-toggleable__control:checked~label.sk-toggleable__label {\n",
       "  background-color: var(--sklearn-color-fitted-level-2);\n",
       "}\n",
       "\n",
       "/* Estimator-specific style */\n",
       "\n",
       "/* Colorize estimator box */\n",
       "#sk-container-id-1 div.sk-estimator input.sk-toggleable__control:checked~label.sk-toggleable__label {\n",
       "  /* unfitted */\n",
       "  background-color: var(--sklearn-color-unfitted-level-2);\n",
       "}\n",
       "\n",
       "#sk-container-id-1 div.sk-estimator.fitted input.sk-toggleable__control:checked~label.sk-toggleable__label {\n",
       "  /* fitted */\n",
       "  background-color: var(--sklearn-color-fitted-level-2);\n",
       "}\n",
       "\n",
       "#sk-container-id-1 div.sk-label label.sk-toggleable__label,\n",
       "#sk-container-id-1 div.sk-label label {\n",
       "  /* The background is the default theme color */\n",
       "  color: var(--sklearn-color-text-on-default-background);\n",
       "}\n",
       "\n",
       "/* On hover, darken the color of the background */\n",
       "#sk-container-id-1 div.sk-label:hover label.sk-toggleable__label {\n",
       "  color: var(--sklearn-color-text);\n",
       "  background-color: var(--sklearn-color-unfitted-level-2);\n",
       "}\n",
       "\n",
       "/* Label box, darken color on hover, fitted */\n",
       "#sk-container-id-1 div.sk-label.fitted:hover label.sk-toggleable__label.fitted {\n",
       "  color: var(--sklearn-color-text);\n",
       "  background-color: var(--sklearn-color-fitted-level-2);\n",
       "}\n",
       "\n",
       "/* Estimator label */\n",
       "\n",
       "#sk-container-id-1 div.sk-label label {\n",
       "  font-family: monospace;\n",
       "  font-weight: bold;\n",
       "  display: inline-block;\n",
       "  line-height: 1.2em;\n",
       "}\n",
       "\n",
       "#sk-container-id-1 div.sk-label-container {\n",
       "  text-align: center;\n",
       "}\n",
       "\n",
       "/* Estimator-specific */\n",
       "#sk-container-id-1 div.sk-estimator {\n",
       "  font-family: monospace;\n",
       "  border: 1px dotted var(--sklearn-color-border-box);\n",
       "  border-radius: 0.25em;\n",
       "  box-sizing: border-box;\n",
       "  margin-bottom: 0.5em;\n",
       "  /* unfitted */\n",
       "  background-color: var(--sklearn-color-unfitted-level-0);\n",
       "}\n",
       "\n",
       "#sk-container-id-1 div.sk-estimator.fitted {\n",
       "  /* fitted */\n",
       "  background-color: var(--sklearn-color-fitted-level-0);\n",
       "}\n",
       "\n",
       "/* on hover */\n",
       "#sk-container-id-1 div.sk-estimator:hover {\n",
       "  /* unfitted */\n",
       "  background-color: var(--sklearn-color-unfitted-level-2);\n",
       "}\n",
       "\n",
       "#sk-container-id-1 div.sk-estimator.fitted:hover {\n",
       "  /* fitted */\n",
       "  background-color: var(--sklearn-color-fitted-level-2);\n",
       "}\n",
       "\n",
       "/* Specification for estimator info (e.g. \"i\" and \"?\") */\n",
       "\n",
       "/* Common style for \"i\" and \"?\" */\n",
       "\n",
       ".sk-estimator-doc-link,\n",
       "a:link.sk-estimator-doc-link,\n",
       "a:visited.sk-estimator-doc-link {\n",
       "  float: right;\n",
       "  font-size: smaller;\n",
       "  line-height: 1em;\n",
       "  font-family: monospace;\n",
       "  background-color: var(--sklearn-color-background);\n",
       "  border-radius: 1em;\n",
       "  height: 1em;\n",
       "  width: 1em;\n",
       "  text-decoration: none !important;\n",
       "  margin-left: 1ex;\n",
       "  /* unfitted */\n",
       "  border: var(--sklearn-color-unfitted-level-1) 1pt solid;\n",
       "  color: var(--sklearn-color-unfitted-level-1);\n",
       "}\n",
       "\n",
       ".sk-estimator-doc-link.fitted,\n",
       "a:link.sk-estimator-doc-link.fitted,\n",
       "a:visited.sk-estimator-doc-link.fitted {\n",
       "  /* fitted */\n",
       "  border: var(--sklearn-color-fitted-level-1) 1pt solid;\n",
       "  color: var(--sklearn-color-fitted-level-1);\n",
       "}\n",
       "\n",
       "/* On hover */\n",
       "div.sk-estimator:hover .sk-estimator-doc-link:hover,\n",
       ".sk-estimator-doc-link:hover,\n",
       "div.sk-label-container:hover .sk-estimator-doc-link:hover,\n",
       ".sk-estimator-doc-link:hover {\n",
       "  /* unfitted */\n",
       "  background-color: var(--sklearn-color-unfitted-level-3);\n",
       "  color: var(--sklearn-color-background);\n",
       "  text-decoration: none;\n",
       "}\n",
       "\n",
       "div.sk-estimator.fitted:hover .sk-estimator-doc-link.fitted:hover,\n",
       ".sk-estimator-doc-link.fitted:hover,\n",
       "div.sk-label-container:hover .sk-estimator-doc-link.fitted:hover,\n",
       ".sk-estimator-doc-link.fitted:hover {\n",
       "  /* fitted */\n",
       "  background-color: var(--sklearn-color-fitted-level-3);\n",
       "  color: var(--sklearn-color-background);\n",
       "  text-decoration: none;\n",
       "}\n",
       "\n",
       "/* Span, style for the box shown on hovering the info icon */\n",
       ".sk-estimator-doc-link span {\n",
       "  display: none;\n",
       "  z-index: 9999;\n",
       "  position: relative;\n",
       "  font-weight: normal;\n",
       "  right: .2ex;\n",
       "  padding: .5ex;\n",
       "  margin: .5ex;\n",
       "  width: min-content;\n",
       "  min-width: 20ex;\n",
       "  max-width: 50ex;\n",
       "  color: var(--sklearn-color-text);\n",
       "  box-shadow: 2pt 2pt 4pt #999;\n",
       "  /* unfitted */\n",
       "  background: var(--sklearn-color-unfitted-level-0);\n",
       "  border: .5pt solid var(--sklearn-color-unfitted-level-3);\n",
       "}\n",
       "\n",
       ".sk-estimator-doc-link.fitted span {\n",
       "  /* fitted */\n",
       "  background: var(--sklearn-color-fitted-level-0);\n",
       "  border: var(--sklearn-color-fitted-level-3);\n",
       "}\n",
       "\n",
       ".sk-estimator-doc-link:hover span {\n",
       "  display: block;\n",
       "}\n",
       "\n",
       "/* \"?\"-specific style due to the `<a>` HTML tag */\n",
       "\n",
       "#sk-container-id-1 a.estimator_doc_link {\n",
       "  float: right;\n",
       "  font-size: 1rem;\n",
       "  line-height: 1em;\n",
       "  font-family: monospace;\n",
       "  background-color: var(--sklearn-color-background);\n",
       "  border-radius: 1rem;\n",
       "  height: 1rem;\n",
       "  width: 1rem;\n",
       "  text-decoration: none;\n",
       "  /* unfitted */\n",
       "  color: var(--sklearn-color-unfitted-level-1);\n",
       "  border: var(--sklearn-color-unfitted-level-1) 1pt solid;\n",
       "}\n",
       "\n",
       "#sk-container-id-1 a.estimator_doc_link.fitted {\n",
       "  /* fitted */\n",
       "  border: var(--sklearn-color-fitted-level-1) 1pt solid;\n",
       "  color: var(--sklearn-color-fitted-level-1);\n",
       "}\n",
       "\n",
       "/* On hover */\n",
       "#sk-container-id-1 a.estimator_doc_link:hover {\n",
       "  /* unfitted */\n",
       "  background-color: var(--sklearn-color-unfitted-level-3);\n",
       "  color: var(--sklearn-color-background);\n",
       "  text-decoration: none;\n",
       "}\n",
       "\n",
       "#sk-container-id-1 a.estimator_doc_link.fitted:hover {\n",
       "  /* fitted */\n",
       "  background-color: var(--sklearn-color-fitted-level-3);\n",
       "}\n",
       "</style><div id=\"sk-container-id-1\" class=\"sk-top-container\"><div class=\"sk-text-repr-fallback\"><pre>RandomForestRegressor(n_estimators=10, oob_score=True, random_state=0)</pre><b>In a Jupyter environment, please rerun this cell to show the HTML representation or trust the notebook. <br />On GitHub, the HTML representation is unable to render, please try loading this page with nbviewer.org.</b></div><div class=\"sk-container\" hidden><div class=\"sk-item\"><div class=\"sk-estimator fitted sk-toggleable\"><input class=\"sk-toggleable__control sk-hidden--visually\" id=\"sk-estimator-id-1\" type=\"checkbox\" checked><label for=\"sk-estimator-id-1\" class=\"sk-toggleable__label fitted sk-toggleable__label-arrow fitted\">&nbsp;&nbsp;RandomForestRegressor<a class=\"sk-estimator-doc-link fitted\" rel=\"noreferrer\" target=\"_blank\" href=\"https://scikit-learn.org/1.4/modules/generated/sklearn.ensemble.RandomForestRegressor.html\">?<span>Documentation for RandomForestRegressor</span></a><span class=\"sk-estimator-doc-link fitted\">i<span>Fitted</span></span></label><div class=\"sk-toggleable__content fitted\"><pre>RandomForestRegressor(n_estimators=10, oob_score=True, random_state=0)</pre></div> </div></div></div></div>"
      ],
      "text/plain": [
       "RandomForestRegressor(n_estimators=10, oob_score=True, random_state=0)"
      ]
     },
     "execution_count": 48,
     "metadata": {},
     "output_type": "execute_result"
    }
   ],
   "source": [
    "x = df.drop(['Sale_price'],axis=1).values\n",
    "y = df['Sale_price'].values\n",
    "x_train,x_test,y_train,y_test = train_test_split(x, y, test_size=0.2,random_state=0)\n",
    "# Fit the regressor with x and y data\n",
    "regressor.fit(x_train, y_train)"
   ]
  },
  {
   "cell_type": "markdown",
   "id": "c453fdb3-757e-42d8-8dc4-5174121fa6a3",
   "metadata": {},
   "source": [
    "<font color='blue'>&emsp;Get the MSE, Out-Of-Bag, and R Squared Values<font>"
   ]
  },
  {
   "cell_type": "code",
   "execution_count": 49,
   "id": "c53a5901-8e9e-4644-a536-f598fa8fd88b",
   "metadata": {},
   "outputs": [
    {
     "name": "stdout",
     "output_type": "stream",
     "text": [
      "674079670330.7104\n"
     ]
    }
   ],
   "source": [
    "from sklearn.metrics import mean_squared_error, r2_score\n",
    "predictions = regressor.predict(x_test)\n",
    "mse = mean_squared_error(y_test, predictions)\n",
    "print(mse)"
   ]
  },
  {
   "cell_type": "code",
   "execution_count": 50,
   "id": "3201b8ef-336e-4d0f-bab7-08c06a1ba838",
   "metadata": {},
   "outputs": [
    {
     "name": "stdout",
     "output_type": "stream",
     "text": [
      "Out-of-Bag Score: 0.6568982615687212\n"
     ]
    }
   ],
   "source": [
    "oob_score = regressor.oob_score_\n",
    "print(f'Out-of-Bag Score: {oob_score}')"
   ]
  },
  {
   "cell_type": "code",
   "execution_count": 51,
   "id": "16c8ee3a-421d-4c30-aa98-3196fa3f366a",
   "metadata": {},
   "outputs": [
    {
     "name": "stdout",
     "output_type": "stream",
     "text": [
      "R-squared: 0.49569962494686326\n"
     ]
    }
   ],
   "source": [
    "r2 = r2_score(y_test, predictions)\n",
    "print(f'R-squared: {r2}')"
   ]
  },
  {
   "cell_type": "markdown",
   "id": "17a2fea8-c303-421b-8ad9-96db3b56f1b1",
   "metadata": {},
   "source": [
    "#### <font color='blue'>6. The second Random Forest Regression model uses the dataset without outliers.</font>"
   ]
  },
  {
   "cell_type": "code",
   "execution_count": 52,
   "id": "17fa3258-0b84-41f8-bc4c-595f27b68495",
   "metadata": {},
   "outputs": [],
   "source": [
    "x = df_wo.drop(['Sale_price'],axis=1).values\n",
    "y = df_wo['Sale_price'].values\n",
    "x_train,x_test,y_train,y_test = train_test_split(x, y, test_size=0.2,random_state=0)"
   ]
  },
  {
   "cell_type": "code",
   "execution_count": 53,
   "id": "d4bd06d1-7c28-4b48-a01e-d9eeb6a7679b",
   "metadata": {},
   "outputs": [
    {
     "name": "stderr",
     "output_type": "stream",
     "text": [
      "C:\\Users\\Garth\\anaconda3\\lib\\site-packages\\sklearn\\ensemble\\_forest.py:615: UserWarning: Some inputs do not have OOB scores. This probably means too few trees were used to compute any reliable OOB estimates.\n",
      "  warn(\n"
     ]
    },
    {
     "data": {
      "text/html": [
       "<style>#sk-container-id-2 {\n",
       "  /* Definition of color scheme common for light and dark mode */\n",
       "  --sklearn-color-text: black;\n",
       "  --sklearn-color-line: gray;\n",
       "  /* Definition of color scheme for unfitted estimators */\n",
       "  --sklearn-color-unfitted-level-0: #fff5e6;\n",
       "  --sklearn-color-unfitted-level-1: #f6e4d2;\n",
       "  --sklearn-color-unfitted-level-2: #ffe0b3;\n",
       "  --sklearn-color-unfitted-level-3: chocolate;\n",
       "  /* Definition of color scheme for fitted estimators */\n",
       "  --sklearn-color-fitted-level-0: #f0f8ff;\n",
       "  --sklearn-color-fitted-level-1: #d4ebff;\n",
       "  --sklearn-color-fitted-level-2: #b3dbfd;\n",
       "  --sklearn-color-fitted-level-3: cornflowerblue;\n",
       "\n",
       "  /* Specific color for light theme */\n",
       "  --sklearn-color-text-on-default-background: var(--sg-text-color, var(--theme-code-foreground, var(--jp-content-font-color1, black)));\n",
       "  --sklearn-color-background: var(--sg-background-color, var(--theme-background, var(--jp-layout-color0, white)));\n",
       "  --sklearn-color-border-box: var(--sg-text-color, var(--theme-code-foreground, var(--jp-content-font-color1, black)));\n",
       "  --sklearn-color-icon: #696969;\n",
       "\n",
       "  @media (prefers-color-scheme: dark) {\n",
       "    /* Redefinition of color scheme for dark theme */\n",
       "    --sklearn-color-text-on-default-background: var(--sg-text-color, var(--theme-code-foreground, var(--jp-content-font-color1, white)));\n",
       "    --sklearn-color-background: var(--sg-background-color, var(--theme-background, var(--jp-layout-color0, #111)));\n",
       "    --sklearn-color-border-box: var(--sg-text-color, var(--theme-code-foreground, var(--jp-content-font-color1, white)));\n",
       "    --sklearn-color-icon: #878787;\n",
       "  }\n",
       "}\n",
       "\n",
       "#sk-container-id-2 {\n",
       "  color: var(--sklearn-color-text);\n",
       "}\n",
       "\n",
       "#sk-container-id-2 pre {\n",
       "  padding: 0;\n",
       "}\n",
       "\n",
       "#sk-container-id-2 input.sk-hidden--visually {\n",
       "  border: 0;\n",
       "  clip: rect(1px 1px 1px 1px);\n",
       "  clip: rect(1px, 1px, 1px, 1px);\n",
       "  height: 1px;\n",
       "  margin: -1px;\n",
       "  overflow: hidden;\n",
       "  padding: 0;\n",
       "  position: absolute;\n",
       "  width: 1px;\n",
       "}\n",
       "\n",
       "#sk-container-id-2 div.sk-dashed-wrapped {\n",
       "  border: 1px dashed var(--sklearn-color-line);\n",
       "  margin: 0 0.4em 0.5em 0.4em;\n",
       "  box-sizing: border-box;\n",
       "  padding-bottom: 0.4em;\n",
       "  background-color: var(--sklearn-color-background);\n",
       "}\n",
       "\n",
       "#sk-container-id-2 div.sk-container {\n",
       "  /* jupyter's `normalize.less` sets `[hidden] { display: none; }`\n",
       "     but bootstrap.min.css set `[hidden] { display: none !important; }`\n",
       "     so we also need the `!important` here to be able to override the\n",
       "     default hidden behavior on the sphinx rendered scikit-learn.org.\n",
       "     See: https://github.com/scikit-learn/scikit-learn/issues/21755 */\n",
       "  display: inline-block !important;\n",
       "  position: relative;\n",
       "}\n",
       "\n",
       "#sk-container-id-2 div.sk-text-repr-fallback {\n",
       "  display: none;\n",
       "}\n",
       "\n",
       "div.sk-parallel-item,\n",
       "div.sk-serial,\n",
       "div.sk-item {\n",
       "  /* draw centered vertical line to link estimators */\n",
       "  background-image: linear-gradient(var(--sklearn-color-text-on-default-background), var(--sklearn-color-text-on-default-background));\n",
       "  background-size: 2px 100%;\n",
       "  background-repeat: no-repeat;\n",
       "  background-position: center center;\n",
       "}\n",
       "\n",
       "/* Parallel-specific style estimator block */\n",
       "\n",
       "#sk-container-id-2 div.sk-parallel-item::after {\n",
       "  content: \"\";\n",
       "  width: 100%;\n",
       "  border-bottom: 2px solid var(--sklearn-color-text-on-default-background);\n",
       "  flex-grow: 1;\n",
       "}\n",
       "\n",
       "#sk-container-id-2 div.sk-parallel {\n",
       "  display: flex;\n",
       "  align-items: stretch;\n",
       "  justify-content: center;\n",
       "  background-color: var(--sklearn-color-background);\n",
       "  position: relative;\n",
       "}\n",
       "\n",
       "#sk-container-id-2 div.sk-parallel-item {\n",
       "  display: flex;\n",
       "  flex-direction: column;\n",
       "}\n",
       "\n",
       "#sk-container-id-2 div.sk-parallel-item:first-child::after {\n",
       "  align-self: flex-end;\n",
       "  width: 50%;\n",
       "}\n",
       "\n",
       "#sk-container-id-2 div.sk-parallel-item:last-child::after {\n",
       "  align-self: flex-start;\n",
       "  width: 50%;\n",
       "}\n",
       "\n",
       "#sk-container-id-2 div.sk-parallel-item:only-child::after {\n",
       "  width: 0;\n",
       "}\n",
       "\n",
       "/* Serial-specific style estimator block */\n",
       "\n",
       "#sk-container-id-2 div.sk-serial {\n",
       "  display: flex;\n",
       "  flex-direction: column;\n",
       "  align-items: center;\n",
       "  background-color: var(--sklearn-color-background);\n",
       "  padding-right: 1em;\n",
       "  padding-left: 1em;\n",
       "}\n",
       "\n",
       "\n",
       "/* Toggleable style: style used for estimator/Pipeline/ColumnTransformer box that is\n",
       "clickable and can be expanded/collapsed.\n",
       "- Pipeline and ColumnTransformer use this feature and define the default style\n",
       "- Estimators will overwrite some part of the style using the `sk-estimator` class\n",
       "*/\n",
       "\n",
       "/* Pipeline and ColumnTransformer style (default) */\n",
       "\n",
       "#sk-container-id-2 div.sk-toggleable {\n",
       "  /* Default theme specific background. It is overwritten whether we have a\n",
       "  specific estimator or a Pipeline/ColumnTransformer */\n",
       "  background-color: var(--sklearn-color-background);\n",
       "}\n",
       "\n",
       "/* Toggleable label */\n",
       "#sk-container-id-2 label.sk-toggleable__label {\n",
       "  cursor: pointer;\n",
       "  display: block;\n",
       "  width: 100%;\n",
       "  margin-bottom: 0;\n",
       "  padding: 0.5em;\n",
       "  box-sizing: border-box;\n",
       "  text-align: center;\n",
       "}\n",
       "\n",
       "#sk-container-id-2 label.sk-toggleable__label-arrow:before {\n",
       "  /* Arrow on the left of the label */\n",
       "  content: \"▸\";\n",
       "  float: left;\n",
       "  margin-right: 0.25em;\n",
       "  color: var(--sklearn-color-icon);\n",
       "}\n",
       "\n",
       "#sk-container-id-2 label.sk-toggleable__label-arrow:hover:before {\n",
       "  color: var(--sklearn-color-text);\n",
       "}\n",
       "\n",
       "/* Toggleable content - dropdown */\n",
       "\n",
       "#sk-container-id-2 div.sk-toggleable__content {\n",
       "  max-height: 0;\n",
       "  max-width: 0;\n",
       "  overflow: hidden;\n",
       "  text-align: left;\n",
       "  /* unfitted */\n",
       "  background-color: var(--sklearn-color-unfitted-level-0);\n",
       "}\n",
       "\n",
       "#sk-container-id-2 div.sk-toggleable__content.fitted {\n",
       "  /* fitted */\n",
       "  background-color: var(--sklearn-color-fitted-level-0);\n",
       "}\n",
       "\n",
       "#sk-container-id-2 div.sk-toggleable__content pre {\n",
       "  margin: 0.2em;\n",
       "  border-radius: 0.25em;\n",
       "  color: var(--sklearn-color-text);\n",
       "  /* unfitted */\n",
       "  background-color: var(--sklearn-color-unfitted-level-0);\n",
       "}\n",
       "\n",
       "#sk-container-id-2 div.sk-toggleable__content.fitted pre {\n",
       "  /* unfitted */\n",
       "  background-color: var(--sklearn-color-fitted-level-0);\n",
       "}\n",
       "\n",
       "#sk-container-id-2 input.sk-toggleable__control:checked~div.sk-toggleable__content {\n",
       "  /* Expand drop-down */\n",
       "  max-height: 200px;\n",
       "  max-width: 100%;\n",
       "  overflow: auto;\n",
       "}\n",
       "\n",
       "#sk-container-id-2 input.sk-toggleable__control:checked~label.sk-toggleable__label-arrow:before {\n",
       "  content: \"▾\";\n",
       "}\n",
       "\n",
       "/* Pipeline/ColumnTransformer-specific style */\n",
       "\n",
       "#sk-container-id-2 div.sk-label input.sk-toggleable__control:checked~label.sk-toggleable__label {\n",
       "  color: var(--sklearn-color-text);\n",
       "  background-color: var(--sklearn-color-unfitted-level-2);\n",
       "}\n",
       "\n",
       "#sk-container-id-2 div.sk-label.fitted input.sk-toggleable__control:checked~label.sk-toggleable__label {\n",
       "  background-color: var(--sklearn-color-fitted-level-2);\n",
       "}\n",
       "\n",
       "/* Estimator-specific style */\n",
       "\n",
       "/* Colorize estimator box */\n",
       "#sk-container-id-2 div.sk-estimator input.sk-toggleable__control:checked~label.sk-toggleable__label {\n",
       "  /* unfitted */\n",
       "  background-color: var(--sklearn-color-unfitted-level-2);\n",
       "}\n",
       "\n",
       "#sk-container-id-2 div.sk-estimator.fitted input.sk-toggleable__control:checked~label.sk-toggleable__label {\n",
       "  /* fitted */\n",
       "  background-color: var(--sklearn-color-fitted-level-2);\n",
       "}\n",
       "\n",
       "#sk-container-id-2 div.sk-label label.sk-toggleable__label,\n",
       "#sk-container-id-2 div.sk-label label {\n",
       "  /* The background is the default theme color */\n",
       "  color: var(--sklearn-color-text-on-default-background);\n",
       "}\n",
       "\n",
       "/* On hover, darken the color of the background */\n",
       "#sk-container-id-2 div.sk-label:hover label.sk-toggleable__label {\n",
       "  color: var(--sklearn-color-text);\n",
       "  background-color: var(--sklearn-color-unfitted-level-2);\n",
       "}\n",
       "\n",
       "/* Label box, darken color on hover, fitted */\n",
       "#sk-container-id-2 div.sk-label.fitted:hover label.sk-toggleable__label.fitted {\n",
       "  color: var(--sklearn-color-text);\n",
       "  background-color: var(--sklearn-color-fitted-level-2);\n",
       "}\n",
       "\n",
       "/* Estimator label */\n",
       "\n",
       "#sk-container-id-2 div.sk-label label {\n",
       "  font-family: monospace;\n",
       "  font-weight: bold;\n",
       "  display: inline-block;\n",
       "  line-height: 1.2em;\n",
       "}\n",
       "\n",
       "#sk-container-id-2 div.sk-label-container {\n",
       "  text-align: center;\n",
       "}\n",
       "\n",
       "/* Estimator-specific */\n",
       "#sk-container-id-2 div.sk-estimator {\n",
       "  font-family: monospace;\n",
       "  border: 1px dotted var(--sklearn-color-border-box);\n",
       "  border-radius: 0.25em;\n",
       "  box-sizing: border-box;\n",
       "  margin-bottom: 0.5em;\n",
       "  /* unfitted */\n",
       "  background-color: var(--sklearn-color-unfitted-level-0);\n",
       "}\n",
       "\n",
       "#sk-container-id-2 div.sk-estimator.fitted {\n",
       "  /* fitted */\n",
       "  background-color: var(--sklearn-color-fitted-level-0);\n",
       "}\n",
       "\n",
       "/* on hover */\n",
       "#sk-container-id-2 div.sk-estimator:hover {\n",
       "  /* unfitted */\n",
       "  background-color: var(--sklearn-color-unfitted-level-2);\n",
       "}\n",
       "\n",
       "#sk-container-id-2 div.sk-estimator.fitted:hover {\n",
       "  /* fitted */\n",
       "  background-color: var(--sklearn-color-fitted-level-2);\n",
       "}\n",
       "\n",
       "/* Specification for estimator info (e.g. \"i\" and \"?\") */\n",
       "\n",
       "/* Common style for \"i\" and \"?\" */\n",
       "\n",
       ".sk-estimator-doc-link,\n",
       "a:link.sk-estimator-doc-link,\n",
       "a:visited.sk-estimator-doc-link {\n",
       "  float: right;\n",
       "  font-size: smaller;\n",
       "  line-height: 1em;\n",
       "  font-family: monospace;\n",
       "  background-color: var(--sklearn-color-background);\n",
       "  border-radius: 1em;\n",
       "  height: 1em;\n",
       "  width: 1em;\n",
       "  text-decoration: none !important;\n",
       "  margin-left: 1ex;\n",
       "  /* unfitted */\n",
       "  border: var(--sklearn-color-unfitted-level-1) 1pt solid;\n",
       "  color: var(--sklearn-color-unfitted-level-1);\n",
       "}\n",
       "\n",
       ".sk-estimator-doc-link.fitted,\n",
       "a:link.sk-estimator-doc-link.fitted,\n",
       "a:visited.sk-estimator-doc-link.fitted {\n",
       "  /* fitted */\n",
       "  border: var(--sklearn-color-fitted-level-1) 1pt solid;\n",
       "  color: var(--sklearn-color-fitted-level-1);\n",
       "}\n",
       "\n",
       "/* On hover */\n",
       "div.sk-estimator:hover .sk-estimator-doc-link:hover,\n",
       ".sk-estimator-doc-link:hover,\n",
       "div.sk-label-container:hover .sk-estimator-doc-link:hover,\n",
       ".sk-estimator-doc-link:hover {\n",
       "  /* unfitted */\n",
       "  background-color: var(--sklearn-color-unfitted-level-3);\n",
       "  color: var(--sklearn-color-background);\n",
       "  text-decoration: none;\n",
       "}\n",
       "\n",
       "div.sk-estimator.fitted:hover .sk-estimator-doc-link.fitted:hover,\n",
       ".sk-estimator-doc-link.fitted:hover,\n",
       "div.sk-label-container:hover .sk-estimator-doc-link.fitted:hover,\n",
       ".sk-estimator-doc-link.fitted:hover {\n",
       "  /* fitted */\n",
       "  background-color: var(--sklearn-color-fitted-level-3);\n",
       "  color: var(--sklearn-color-background);\n",
       "  text-decoration: none;\n",
       "}\n",
       "\n",
       "/* Span, style for the box shown on hovering the info icon */\n",
       ".sk-estimator-doc-link span {\n",
       "  display: none;\n",
       "  z-index: 9999;\n",
       "  position: relative;\n",
       "  font-weight: normal;\n",
       "  right: .2ex;\n",
       "  padding: .5ex;\n",
       "  margin: .5ex;\n",
       "  width: min-content;\n",
       "  min-width: 20ex;\n",
       "  max-width: 50ex;\n",
       "  color: var(--sklearn-color-text);\n",
       "  box-shadow: 2pt 2pt 4pt #999;\n",
       "  /* unfitted */\n",
       "  background: var(--sklearn-color-unfitted-level-0);\n",
       "  border: .5pt solid var(--sklearn-color-unfitted-level-3);\n",
       "}\n",
       "\n",
       ".sk-estimator-doc-link.fitted span {\n",
       "  /* fitted */\n",
       "  background: var(--sklearn-color-fitted-level-0);\n",
       "  border: var(--sklearn-color-fitted-level-3);\n",
       "}\n",
       "\n",
       ".sk-estimator-doc-link:hover span {\n",
       "  display: block;\n",
       "}\n",
       "\n",
       "/* \"?\"-specific style due to the `<a>` HTML tag */\n",
       "\n",
       "#sk-container-id-2 a.estimator_doc_link {\n",
       "  float: right;\n",
       "  font-size: 1rem;\n",
       "  line-height: 1em;\n",
       "  font-family: monospace;\n",
       "  background-color: var(--sklearn-color-background);\n",
       "  border-radius: 1rem;\n",
       "  height: 1rem;\n",
       "  width: 1rem;\n",
       "  text-decoration: none;\n",
       "  /* unfitted */\n",
       "  color: var(--sklearn-color-unfitted-level-1);\n",
       "  border: var(--sklearn-color-unfitted-level-1) 1pt solid;\n",
       "}\n",
       "\n",
       "#sk-container-id-2 a.estimator_doc_link.fitted {\n",
       "  /* fitted */\n",
       "  border: var(--sklearn-color-fitted-level-1) 1pt solid;\n",
       "  color: var(--sklearn-color-fitted-level-1);\n",
       "}\n",
       "\n",
       "/* On hover */\n",
       "#sk-container-id-2 a.estimator_doc_link:hover {\n",
       "  /* unfitted */\n",
       "  background-color: var(--sklearn-color-unfitted-level-3);\n",
       "  color: var(--sklearn-color-background);\n",
       "  text-decoration: none;\n",
       "}\n",
       "\n",
       "#sk-container-id-2 a.estimator_doc_link.fitted:hover {\n",
       "  /* fitted */\n",
       "  background-color: var(--sklearn-color-fitted-level-3);\n",
       "}\n",
       "</style><div id=\"sk-container-id-2\" class=\"sk-top-container\"><div class=\"sk-text-repr-fallback\"><pre>RandomForestRegressor(n_estimators=10, oob_score=True, random_state=0)</pre><b>In a Jupyter environment, please rerun this cell to show the HTML representation or trust the notebook. <br />On GitHub, the HTML representation is unable to render, please try loading this page with nbviewer.org.</b></div><div class=\"sk-container\" hidden><div class=\"sk-item\"><div class=\"sk-estimator fitted sk-toggleable\"><input class=\"sk-toggleable__control sk-hidden--visually\" id=\"sk-estimator-id-2\" type=\"checkbox\" checked><label for=\"sk-estimator-id-2\" class=\"sk-toggleable__label fitted sk-toggleable__label-arrow fitted\">&nbsp;&nbsp;RandomForestRegressor<a class=\"sk-estimator-doc-link fitted\" rel=\"noreferrer\" target=\"_blank\" href=\"https://scikit-learn.org/1.4/modules/generated/sklearn.ensemble.RandomForestRegressor.html\">?<span>Documentation for RandomForestRegressor</span></a><span class=\"sk-estimator-doc-link fitted\">i<span>Fitted</span></span></label><div class=\"sk-toggleable__content fitted\"><pre>RandomForestRegressor(n_estimators=10, oob_score=True, random_state=0)</pre></div> </div></div></div></div>"
      ],
      "text/plain": [
       "RandomForestRegressor(n_estimators=10, oob_score=True, random_state=0)"
      ]
     },
     "execution_count": 53,
     "metadata": {},
     "output_type": "execute_result"
    }
   ],
   "source": [
    "# Fit the regressor with x and y data\n",
    "regressor.fit(x_train, y_train)"
   ]
  },
  {
   "cell_type": "markdown",
   "id": "7aead5d1-7486-4671-b46b-04b939bd47a5",
   "metadata": {},
   "source": [
    "<font color='blue'>&emsp;Get the MSE, Out-Of-Bag, and R Squared Values<font>"
   ]
  },
  {
   "cell_type": "code",
   "execution_count": 54,
   "id": "51605286-9c3f-453c-8491-6ed3134e501a",
   "metadata": {},
   "outputs": [
    {
     "name": "stdout",
     "output_type": "stream",
     "text": [
      "1311813575.4398525\n"
     ]
    }
   ],
   "source": [
    "from sklearn.metrics import mean_squared_error, r2_score\n",
    "predictions = regressor.predict(x_test)\n",
    "mse = mean_squared_error(y_test, predictions)\n",
    "print(mse)"
   ]
  },
  {
   "cell_type": "code",
   "execution_count": 55,
   "id": "ea0d42be-add0-49a5-8225-b31e282ed9e9",
   "metadata": {},
   "outputs": [
    {
     "name": "stdout",
     "output_type": "stream",
     "text": [
      "Out-of-Bag Score: 0.6320124932399352\n"
     ]
    }
   ],
   "source": [
    "oob_score = regressor.oob_score_\n",
    "print(f'Out-of-Bag Score: {oob_score}')"
   ]
  },
  {
   "cell_type": "code",
   "execution_count": 56,
   "id": "e7a9fe55-3935-4435-b672-432a27d0e696",
   "metadata": {},
   "outputs": [
    {
     "name": "stdout",
     "output_type": "stream",
     "text": [
      "R-squared: 0.743411331854884\n"
     ]
    }
   ],
   "source": [
    "r2 = r2_score(y_test, predictions)\n",
    "print(f'R-squared: {r2}')"
   ]
  },
  {
   "cell_type": "markdown",
   "id": "89507bc0-bfbd-44d2-b50a-a7d9a5e138d8",
   "metadata": {},
   "source": [
    "#### <font color='blue'>7. The third Random Forest Regression model uses the residential dataset.</font>"
   ]
  },
  {
   "cell_type": "code",
   "execution_count": 57,
   "id": "b303733f-1561-4fbc-a7ad-9d98b5edf495",
   "metadata": {},
   "outputs": [
    {
     "name": "stderr",
     "output_type": "stream",
     "text": [
      "C:\\Users\\Garth\\anaconda3\\lib\\site-packages\\sklearn\\ensemble\\_forest.py:615: UserWarning: Some inputs do not have OOB scores. This probably means too few trees were used to compute any reliable OOB estimates.\n",
      "  warn(\n"
     ]
    },
    {
     "data": {
      "text/html": [
       "<style>#sk-container-id-3 {\n",
       "  /* Definition of color scheme common for light and dark mode */\n",
       "  --sklearn-color-text: black;\n",
       "  --sklearn-color-line: gray;\n",
       "  /* Definition of color scheme for unfitted estimators */\n",
       "  --sklearn-color-unfitted-level-0: #fff5e6;\n",
       "  --sklearn-color-unfitted-level-1: #f6e4d2;\n",
       "  --sklearn-color-unfitted-level-2: #ffe0b3;\n",
       "  --sklearn-color-unfitted-level-3: chocolate;\n",
       "  /* Definition of color scheme for fitted estimators */\n",
       "  --sklearn-color-fitted-level-0: #f0f8ff;\n",
       "  --sklearn-color-fitted-level-1: #d4ebff;\n",
       "  --sklearn-color-fitted-level-2: #b3dbfd;\n",
       "  --sklearn-color-fitted-level-3: cornflowerblue;\n",
       "\n",
       "  /* Specific color for light theme */\n",
       "  --sklearn-color-text-on-default-background: var(--sg-text-color, var(--theme-code-foreground, var(--jp-content-font-color1, black)));\n",
       "  --sklearn-color-background: var(--sg-background-color, var(--theme-background, var(--jp-layout-color0, white)));\n",
       "  --sklearn-color-border-box: var(--sg-text-color, var(--theme-code-foreground, var(--jp-content-font-color1, black)));\n",
       "  --sklearn-color-icon: #696969;\n",
       "\n",
       "  @media (prefers-color-scheme: dark) {\n",
       "    /* Redefinition of color scheme for dark theme */\n",
       "    --sklearn-color-text-on-default-background: var(--sg-text-color, var(--theme-code-foreground, var(--jp-content-font-color1, white)));\n",
       "    --sklearn-color-background: var(--sg-background-color, var(--theme-background, var(--jp-layout-color0, #111)));\n",
       "    --sklearn-color-border-box: var(--sg-text-color, var(--theme-code-foreground, var(--jp-content-font-color1, white)));\n",
       "    --sklearn-color-icon: #878787;\n",
       "  }\n",
       "}\n",
       "\n",
       "#sk-container-id-3 {\n",
       "  color: var(--sklearn-color-text);\n",
       "}\n",
       "\n",
       "#sk-container-id-3 pre {\n",
       "  padding: 0;\n",
       "}\n",
       "\n",
       "#sk-container-id-3 input.sk-hidden--visually {\n",
       "  border: 0;\n",
       "  clip: rect(1px 1px 1px 1px);\n",
       "  clip: rect(1px, 1px, 1px, 1px);\n",
       "  height: 1px;\n",
       "  margin: -1px;\n",
       "  overflow: hidden;\n",
       "  padding: 0;\n",
       "  position: absolute;\n",
       "  width: 1px;\n",
       "}\n",
       "\n",
       "#sk-container-id-3 div.sk-dashed-wrapped {\n",
       "  border: 1px dashed var(--sklearn-color-line);\n",
       "  margin: 0 0.4em 0.5em 0.4em;\n",
       "  box-sizing: border-box;\n",
       "  padding-bottom: 0.4em;\n",
       "  background-color: var(--sklearn-color-background);\n",
       "}\n",
       "\n",
       "#sk-container-id-3 div.sk-container {\n",
       "  /* jupyter's `normalize.less` sets `[hidden] { display: none; }`\n",
       "     but bootstrap.min.css set `[hidden] { display: none !important; }`\n",
       "     so we also need the `!important` here to be able to override the\n",
       "     default hidden behavior on the sphinx rendered scikit-learn.org.\n",
       "     See: https://github.com/scikit-learn/scikit-learn/issues/21755 */\n",
       "  display: inline-block !important;\n",
       "  position: relative;\n",
       "}\n",
       "\n",
       "#sk-container-id-3 div.sk-text-repr-fallback {\n",
       "  display: none;\n",
       "}\n",
       "\n",
       "div.sk-parallel-item,\n",
       "div.sk-serial,\n",
       "div.sk-item {\n",
       "  /* draw centered vertical line to link estimators */\n",
       "  background-image: linear-gradient(var(--sklearn-color-text-on-default-background), var(--sklearn-color-text-on-default-background));\n",
       "  background-size: 2px 100%;\n",
       "  background-repeat: no-repeat;\n",
       "  background-position: center center;\n",
       "}\n",
       "\n",
       "/* Parallel-specific style estimator block */\n",
       "\n",
       "#sk-container-id-3 div.sk-parallel-item::after {\n",
       "  content: \"\";\n",
       "  width: 100%;\n",
       "  border-bottom: 2px solid var(--sklearn-color-text-on-default-background);\n",
       "  flex-grow: 1;\n",
       "}\n",
       "\n",
       "#sk-container-id-3 div.sk-parallel {\n",
       "  display: flex;\n",
       "  align-items: stretch;\n",
       "  justify-content: center;\n",
       "  background-color: var(--sklearn-color-background);\n",
       "  position: relative;\n",
       "}\n",
       "\n",
       "#sk-container-id-3 div.sk-parallel-item {\n",
       "  display: flex;\n",
       "  flex-direction: column;\n",
       "}\n",
       "\n",
       "#sk-container-id-3 div.sk-parallel-item:first-child::after {\n",
       "  align-self: flex-end;\n",
       "  width: 50%;\n",
       "}\n",
       "\n",
       "#sk-container-id-3 div.sk-parallel-item:last-child::after {\n",
       "  align-self: flex-start;\n",
       "  width: 50%;\n",
       "}\n",
       "\n",
       "#sk-container-id-3 div.sk-parallel-item:only-child::after {\n",
       "  width: 0;\n",
       "}\n",
       "\n",
       "/* Serial-specific style estimator block */\n",
       "\n",
       "#sk-container-id-3 div.sk-serial {\n",
       "  display: flex;\n",
       "  flex-direction: column;\n",
       "  align-items: center;\n",
       "  background-color: var(--sklearn-color-background);\n",
       "  padding-right: 1em;\n",
       "  padding-left: 1em;\n",
       "}\n",
       "\n",
       "\n",
       "/* Toggleable style: style used for estimator/Pipeline/ColumnTransformer box that is\n",
       "clickable and can be expanded/collapsed.\n",
       "- Pipeline and ColumnTransformer use this feature and define the default style\n",
       "- Estimators will overwrite some part of the style using the `sk-estimator` class\n",
       "*/\n",
       "\n",
       "/* Pipeline and ColumnTransformer style (default) */\n",
       "\n",
       "#sk-container-id-3 div.sk-toggleable {\n",
       "  /* Default theme specific background. It is overwritten whether we have a\n",
       "  specific estimator or a Pipeline/ColumnTransformer */\n",
       "  background-color: var(--sklearn-color-background);\n",
       "}\n",
       "\n",
       "/* Toggleable label */\n",
       "#sk-container-id-3 label.sk-toggleable__label {\n",
       "  cursor: pointer;\n",
       "  display: block;\n",
       "  width: 100%;\n",
       "  margin-bottom: 0;\n",
       "  padding: 0.5em;\n",
       "  box-sizing: border-box;\n",
       "  text-align: center;\n",
       "}\n",
       "\n",
       "#sk-container-id-3 label.sk-toggleable__label-arrow:before {\n",
       "  /* Arrow on the left of the label */\n",
       "  content: \"▸\";\n",
       "  float: left;\n",
       "  margin-right: 0.25em;\n",
       "  color: var(--sklearn-color-icon);\n",
       "}\n",
       "\n",
       "#sk-container-id-3 label.sk-toggleable__label-arrow:hover:before {\n",
       "  color: var(--sklearn-color-text);\n",
       "}\n",
       "\n",
       "/* Toggleable content - dropdown */\n",
       "\n",
       "#sk-container-id-3 div.sk-toggleable__content {\n",
       "  max-height: 0;\n",
       "  max-width: 0;\n",
       "  overflow: hidden;\n",
       "  text-align: left;\n",
       "  /* unfitted */\n",
       "  background-color: var(--sklearn-color-unfitted-level-0);\n",
       "}\n",
       "\n",
       "#sk-container-id-3 div.sk-toggleable__content.fitted {\n",
       "  /* fitted */\n",
       "  background-color: var(--sklearn-color-fitted-level-0);\n",
       "}\n",
       "\n",
       "#sk-container-id-3 div.sk-toggleable__content pre {\n",
       "  margin: 0.2em;\n",
       "  border-radius: 0.25em;\n",
       "  color: var(--sklearn-color-text);\n",
       "  /* unfitted */\n",
       "  background-color: var(--sklearn-color-unfitted-level-0);\n",
       "}\n",
       "\n",
       "#sk-container-id-3 div.sk-toggleable__content.fitted pre {\n",
       "  /* unfitted */\n",
       "  background-color: var(--sklearn-color-fitted-level-0);\n",
       "}\n",
       "\n",
       "#sk-container-id-3 input.sk-toggleable__control:checked~div.sk-toggleable__content {\n",
       "  /* Expand drop-down */\n",
       "  max-height: 200px;\n",
       "  max-width: 100%;\n",
       "  overflow: auto;\n",
       "}\n",
       "\n",
       "#sk-container-id-3 input.sk-toggleable__control:checked~label.sk-toggleable__label-arrow:before {\n",
       "  content: \"▾\";\n",
       "}\n",
       "\n",
       "/* Pipeline/ColumnTransformer-specific style */\n",
       "\n",
       "#sk-container-id-3 div.sk-label input.sk-toggleable__control:checked~label.sk-toggleable__label {\n",
       "  color: var(--sklearn-color-text);\n",
       "  background-color: var(--sklearn-color-unfitted-level-2);\n",
       "}\n",
       "\n",
       "#sk-container-id-3 div.sk-label.fitted input.sk-toggleable__control:checked~label.sk-toggleable__label {\n",
       "  background-color: var(--sklearn-color-fitted-level-2);\n",
       "}\n",
       "\n",
       "/* Estimator-specific style */\n",
       "\n",
       "/* Colorize estimator box */\n",
       "#sk-container-id-3 div.sk-estimator input.sk-toggleable__control:checked~label.sk-toggleable__label {\n",
       "  /* unfitted */\n",
       "  background-color: var(--sklearn-color-unfitted-level-2);\n",
       "}\n",
       "\n",
       "#sk-container-id-3 div.sk-estimator.fitted input.sk-toggleable__control:checked~label.sk-toggleable__label {\n",
       "  /* fitted */\n",
       "  background-color: var(--sklearn-color-fitted-level-2);\n",
       "}\n",
       "\n",
       "#sk-container-id-3 div.sk-label label.sk-toggleable__label,\n",
       "#sk-container-id-3 div.sk-label label {\n",
       "  /* The background is the default theme color */\n",
       "  color: var(--sklearn-color-text-on-default-background);\n",
       "}\n",
       "\n",
       "/* On hover, darken the color of the background */\n",
       "#sk-container-id-3 div.sk-label:hover label.sk-toggleable__label {\n",
       "  color: var(--sklearn-color-text);\n",
       "  background-color: var(--sklearn-color-unfitted-level-2);\n",
       "}\n",
       "\n",
       "/* Label box, darken color on hover, fitted */\n",
       "#sk-container-id-3 div.sk-label.fitted:hover label.sk-toggleable__label.fitted {\n",
       "  color: var(--sklearn-color-text);\n",
       "  background-color: var(--sklearn-color-fitted-level-2);\n",
       "}\n",
       "\n",
       "/* Estimator label */\n",
       "\n",
       "#sk-container-id-3 div.sk-label label {\n",
       "  font-family: monospace;\n",
       "  font-weight: bold;\n",
       "  display: inline-block;\n",
       "  line-height: 1.2em;\n",
       "}\n",
       "\n",
       "#sk-container-id-3 div.sk-label-container {\n",
       "  text-align: center;\n",
       "}\n",
       "\n",
       "/* Estimator-specific */\n",
       "#sk-container-id-3 div.sk-estimator {\n",
       "  font-family: monospace;\n",
       "  border: 1px dotted var(--sklearn-color-border-box);\n",
       "  border-radius: 0.25em;\n",
       "  box-sizing: border-box;\n",
       "  margin-bottom: 0.5em;\n",
       "  /* unfitted */\n",
       "  background-color: var(--sklearn-color-unfitted-level-0);\n",
       "}\n",
       "\n",
       "#sk-container-id-3 div.sk-estimator.fitted {\n",
       "  /* fitted */\n",
       "  background-color: var(--sklearn-color-fitted-level-0);\n",
       "}\n",
       "\n",
       "/* on hover */\n",
       "#sk-container-id-3 div.sk-estimator:hover {\n",
       "  /* unfitted */\n",
       "  background-color: var(--sklearn-color-unfitted-level-2);\n",
       "}\n",
       "\n",
       "#sk-container-id-3 div.sk-estimator.fitted:hover {\n",
       "  /* fitted */\n",
       "  background-color: var(--sklearn-color-fitted-level-2);\n",
       "}\n",
       "\n",
       "/* Specification for estimator info (e.g. \"i\" and \"?\") */\n",
       "\n",
       "/* Common style for \"i\" and \"?\" */\n",
       "\n",
       ".sk-estimator-doc-link,\n",
       "a:link.sk-estimator-doc-link,\n",
       "a:visited.sk-estimator-doc-link {\n",
       "  float: right;\n",
       "  font-size: smaller;\n",
       "  line-height: 1em;\n",
       "  font-family: monospace;\n",
       "  background-color: var(--sklearn-color-background);\n",
       "  border-radius: 1em;\n",
       "  height: 1em;\n",
       "  width: 1em;\n",
       "  text-decoration: none !important;\n",
       "  margin-left: 1ex;\n",
       "  /* unfitted */\n",
       "  border: var(--sklearn-color-unfitted-level-1) 1pt solid;\n",
       "  color: var(--sklearn-color-unfitted-level-1);\n",
       "}\n",
       "\n",
       ".sk-estimator-doc-link.fitted,\n",
       "a:link.sk-estimator-doc-link.fitted,\n",
       "a:visited.sk-estimator-doc-link.fitted {\n",
       "  /* fitted */\n",
       "  border: var(--sklearn-color-fitted-level-1) 1pt solid;\n",
       "  color: var(--sklearn-color-fitted-level-1);\n",
       "}\n",
       "\n",
       "/* On hover */\n",
       "div.sk-estimator:hover .sk-estimator-doc-link:hover,\n",
       ".sk-estimator-doc-link:hover,\n",
       "div.sk-label-container:hover .sk-estimator-doc-link:hover,\n",
       ".sk-estimator-doc-link:hover {\n",
       "  /* unfitted */\n",
       "  background-color: var(--sklearn-color-unfitted-level-3);\n",
       "  color: var(--sklearn-color-background);\n",
       "  text-decoration: none;\n",
       "}\n",
       "\n",
       "div.sk-estimator.fitted:hover .sk-estimator-doc-link.fitted:hover,\n",
       ".sk-estimator-doc-link.fitted:hover,\n",
       "div.sk-label-container:hover .sk-estimator-doc-link.fitted:hover,\n",
       ".sk-estimator-doc-link.fitted:hover {\n",
       "  /* fitted */\n",
       "  background-color: var(--sklearn-color-fitted-level-3);\n",
       "  color: var(--sklearn-color-background);\n",
       "  text-decoration: none;\n",
       "}\n",
       "\n",
       "/* Span, style for the box shown on hovering the info icon */\n",
       ".sk-estimator-doc-link span {\n",
       "  display: none;\n",
       "  z-index: 9999;\n",
       "  position: relative;\n",
       "  font-weight: normal;\n",
       "  right: .2ex;\n",
       "  padding: .5ex;\n",
       "  margin: .5ex;\n",
       "  width: min-content;\n",
       "  min-width: 20ex;\n",
       "  max-width: 50ex;\n",
       "  color: var(--sklearn-color-text);\n",
       "  box-shadow: 2pt 2pt 4pt #999;\n",
       "  /* unfitted */\n",
       "  background: var(--sklearn-color-unfitted-level-0);\n",
       "  border: .5pt solid var(--sklearn-color-unfitted-level-3);\n",
       "}\n",
       "\n",
       ".sk-estimator-doc-link.fitted span {\n",
       "  /* fitted */\n",
       "  background: var(--sklearn-color-fitted-level-0);\n",
       "  border: var(--sklearn-color-fitted-level-3);\n",
       "}\n",
       "\n",
       ".sk-estimator-doc-link:hover span {\n",
       "  display: block;\n",
       "}\n",
       "\n",
       "/* \"?\"-specific style due to the `<a>` HTML tag */\n",
       "\n",
       "#sk-container-id-3 a.estimator_doc_link {\n",
       "  float: right;\n",
       "  font-size: 1rem;\n",
       "  line-height: 1em;\n",
       "  font-family: monospace;\n",
       "  background-color: var(--sklearn-color-background);\n",
       "  border-radius: 1rem;\n",
       "  height: 1rem;\n",
       "  width: 1rem;\n",
       "  text-decoration: none;\n",
       "  /* unfitted */\n",
       "  color: var(--sklearn-color-unfitted-level-1);\n",
       "  border: var(--sklearn-color-unfitted-level-1) 1pt solid;\n",
       "}\n",
       "\n",
       "#sk-container-id-3 a.estimator_doc_link.fitted {\n",
       "  /* fitted */\n",
       "  border: var(--sklearn-color-fitted-level-1) 1pt solid;\n",
       "  color: var(--sklearn-color-fitted-level-1);\n",
       "}\n",
       "\n",
       "/* On hover */\n",
       "#sk-container-id-3 a.estimator_doc_link:hover {\n",
       "  /* unfitted */\n",
       "  background-color: var(--sklearn-color-unfitted-level-3);\n",
       "  color: var(--sklearn-color-background);\n",
       "  text-decoration: none;\n",
       "}\n",
       "\n",
       "#sk-container-id-3 a.estimator_doc_link.fitted:hover {\n",
       "  /* fitted */\n",
       "  background-color: var(--sklearn-color-fitted-level-3);\n",
       "}\n",
       "</style><div id=\"sk-container-id-3\" class=\"sk-top-container\"><div class=\"sk-text-repr-fallback\"><pre>RandomForestRegressor(n_estimators=10, oob_score=True, random_state=0)</pre><b>In a Jupyter environment, please rerun this cell to show the HTML representation or trust the notebook. <br />On GitHub, the HTML representation is unable to render, please try loading this page with nbviewer.org.</b></div><div class=\"sk-container\" hidden><div class=\"sk-item\"><div class=\"sk-estimator fitted sk-toggleable\"><input class=\"sk-toggleable__control sk-hidden--visually\" id=\"sk-estimator-id-3\" type=\"checkbox\" checked><label for=\"sk-estimator-id-3\" class=\"sk-toggleable__label fitted sk-toggleable__label-arrow fitted\">&nbsp;&nbsp;RandomForestRegressor<a class=\"sk-estimator-doc-link fitted\" rel=\"noreferrer\" target=\"_blank\" href=\"https://scikit-learn.org/1.4/modules/generated/sklearn.ensemble.RandomForestRegressor.html\">?<span>Documentation for RandomForestRegressor</span></a><span class=\"sk-estimator-doc-link fitted\">i<span>Fitted</span></span></label><div class=\"sk-toggleable__content fitted\"><pre>RandomForestRegressor(n_estimators=10, oob_score=True, random_state=0)</pre></div> </div></div></div></div>"
      ],
      "text/plain": [
       "RandomForestRegressor(n_estimators=10, oob_score=True, random_state=0)"
      ]
     },
     "execution_count": 57,
     "metadata": {},
     "output_type": "execute_result"
    }
   ],
   "source": [
    "x = df_residential.drop(['Sale_price'],axis=1).values\n",
    "y = df_residential['Sale_price'].values\n",
    "x_train,x_test,y_train,y_test = train_test_split(x, y, test_size=0.2,random_state=0)\n",
    "# Fit the regressor with x and y data\n",
    "regressor.fit(x_train, y_train)"
   ]
  },
  {
   "cell_type": "markdown",
   "id": "e56c466c-cf5f-45ce-b52a-04d15d9e1ded",
   "metadata": {},
   "source": [
    "<font color='blue'>&emsp;Get the MSE, Out-Of-Bag, and R Squared Values<font>"
   ]
  },
  {
   "cell_type": "code",
   "execution_count": 58,
   "id": "fc93b9a4-b67e-402c-a97d-be4906dcbd22",
   "metadata": {},
   "outputs": [
    {
     "name": "stdout",
     "output_type": "stream",
     "text": [
      "3210758616.604026\n"
     ]
    }
   ],
   "source": [
    "from sklearn.metrics import mean_squared_error, r2_score\n",
    "predictions = regressor.predict(x_test)\n",
    "mse = mean_squared_error(y_test, predictions)\n",
    "print(mse)"
   ]
  },
  {
   "cell_type": "code",
   "execution_count": 59,
   "id": "ee3ede85-c894-420d-bfc8-e64392d380a8",
   "metadata": {},
   "outputs": [
    {
     "name": "stdout",
     "output_type": "stream",
     "text": [
      "Out-of-Bag Score: 0.5943239254958124\n"
     ]
    }
   ],
   "source": [
    "oob_score = regressor.oob_score_\n",
    "print(f'Out-of-Bag Score: {oob_score}')"
   ]
  },
  {
   "cell_type": "code",
   "execution_count": 60,
   "id": "b13ab70f-e9c7-4e52-bc62-b22d25e83079",
   "metadata": {},
   "outputs": [
    {
     "name": "stdout",
     "output_type": "stream",
     "text": [
      "R-squared: 0.6623054205405294\n"
     ]
    }
   ],
   "source": [
    "r2 = r2_score(y_test, predictions)\n",
    "print(f'R-squared: {r2}')"
   ]
  },
  {
   "cell_type": "markdown",
   "id": "0dffb058-fddc-4cf0-8b5d-233316bf2776",
   "metadata": {},
   "source": [
    "#### <font color='blue'>8. The fourth Random Forest Regression model uses the residential dataset without outliers.</font>"
   ]
  },
  {
   "cell_type": "code",
   "execution_count": 61,
   "id": "51fdb252-893f-442f-8826-540234c1b600",
   "metadata": {},
   "outputs": [
    {
     "name": "stderr",
     "output_type": "stream",
     "text": [
      "C:\\Users\\Garth\\anaconda3\\lib\\site-packages\\sklearn\\ensemble\\_forest.py:615: UserWarning: Some inputs do not have OOB scores. This probably means too few trees were used to compute any reliable OOB estimates.\n",
      "  warn(\n"
     ]
    },
    {
     "data": {
      "text/html": [
       "<style>#sk-container-id-4 {\n",
       "  /* Definition of color scheme common for light and dark mode */\n",
       "  --sklearn-color-text: black;\n",
       "  --sklearn-color-line: gray;\n",
       "  /* Definition of color scheme for unfitted estimators */\n",
       "  --sklearn-color-unfitted-level-0: #fff5e6;\n",
       "  --sklearn-color-unfitted-level-1: #f6e4d2;\n",
       "  --sklearn-color-unfitted-level-2: #ffe0b3;\n",
       "  --sklearn-color-unfitted-level-3: chocolate;\n",
       "  /* Definition of color scheme for fitted estimators */\n",
       "  --sklearn-color-fitted-level-0: #f0f8ff;\n",
       "  --sklearn-color-fitted-level-1: #d4ebff;\n",
       "  --sklearn-color-fitted-level-2: #b3dbfd;\n",
       "  --sklearn-color-fitted-level-3: cornflowerblue;\n",
       "\n",
       "  /* Specific color for light theme */\n",
       "  --sklearn-color-text-on-default-background: var(--sg-text-color, var(--theme-code-foreground, var(--jp-content-font-color1, black)));\n",
       "  --sklearn-color-background: var(--sg-background-color, var(--theme-background, var(--jp-layout-color0, white)));\n",
       "  --sklearn-color-border-box: var(--sg-text-color, var(--theme-code-foreground, var(--jp-content-font-color1, black)));\n",
       "  --sklearn-color-icon: #696969;\n",
       "\n",
       "  @media (prefers-color-scheme: dark) {\n",
       "    /* Redefinition of color scheme for dark theme */\n",
       "    --sklearn-color-text-on-default-background: var(--sg-text-color, var(--theme-code-foreground, var(--jp-content-font-color1, white)));\n",
       "    --sklearn-color-background: var(--sg-background-color, var(--theme-background, var(--jp-layout-color0, #111)));\n",
       "    --sklearn-color-border-box: var(--sg-text-color, var(--theme-code-foreground, var(--jp-content-font-color1, white)));\n",
       "    --sklearn-color-icon: #878787;\n",
       "  }\n",
       "}\n",
       "\n",
       "#sk-container-id-4 {\n",
       "  color: var(--sklearn-color-text);\n",
       "}\n",
       "\n",
       "#sk-container-id-4 pre {\n",
       "  padding: 0;\n",
       "}\n",
       "\n",
       "#sk-container-id-4 input.sk-hidden--visually {\n",
       "  border: 0;\n",
       "  clip: rect(1px 1px 1px 1px);\n",
       "  clip: rect(1px, 1px, 1px, 1px);\n",
       "  height: 1px;\n",
       "  margin: -1px;\n",
       "  overflow: hidden;\n",
       "  padding: 0;\n",
       "  position: absolute;\n",
       "  width: 1px;\n",
       "}\n",
       "\n",
       "#sk-container-id-4 div.sk-dashed-wrapped {\n",
       "  border: 1px dashed var(--sklearn-color-line);\n",
       "  margin: 0 0.4em 0.5em 0.4em;\n",
       "  box-sizing: border-box;\n",
       "  padding-bottom: 0.4em;\n",
       "  background-color: var(--sklearn-color-background);\n",
       "}\n",
       "\n",
       "#sk-container-id-4 div.sk-container {\n",
       "  /* jupyter's `normalize.less` sets `[hidden] { display: none; }`\n",
       "     but bootstrap.min.css set `[hidden] { display: none !important; }`\n",
       "     so we also need the `!important` here to be able to override the\n",
       "     default hidden behavior on the sphinx rendered scikit-learn.org.\n",
       "     See: https://github.com/scikit-learn/scikit-learn/issues/21755 */\n",
       "  display: inline-block !important;\n",
       "  position: relative;\n",
       "}\n",
       "\n",
       "#sk-container-id-4 div.sk-text-repr-fallback {\n",
       "  display: none;\n",
       "}\n",
       "\n",
       "div.sk-parallel-item,\n",
       "div.sk-serial,\n",
       "div.sk-item {\n",
       "  /* draw centered vertical line to link estimators */\n",
       "  background-image: linear-gradient(var(--sklearn-color-text-on-default-background), var(--sklearn-color-text-on-default-background));\n",
       "  background-size: 2px 100%;\n",
       "  background-repeat: no-repeat;\n",
       "  background-position: center center;\n",
       "}\n",
       "\n",
       "/* Parallel-specific style estimator block */\n",
       "\n",
       "#sk-container-id-4 div.sk-parallel-item::after {\n",
       "  content: \"\";\n",
       "  width: 100%;\n",
       "  border-bottom: 2px solid var(--sklearn-color-text-on-default-background);\n",
       "  flex-grow: 1;\n",
       "}\n",
       "\n",
       "#sk-container-id-4 div.sk-parallel {\n",
       "  display: flex;\n",
       "  align-items: stretch;\n",
       "  justify-content: center;\n",
       "  background-color: var(--sklearn-color-background);\n",
       "  position: relative;\n",
       "}\n",
       "\n",
       "#sk-container-id-4 div.sk-parallel-item {\n",
       "  display: flex;\n",
       "  flex-direction: column;\n",
       "}\n",
       "\n",
       "#sk-container-id-4 div.sk-parallel-item:first-child::after {\n",
       "  align-self: flex-end;\n",
       "  width: 50%;\n",
       "}\n",
       "\n",
       "#sk-container-id-4 div.sk-parallel-item:last-child::after {\n",
       "  align-self: flex-start;\n",
       "  width: 50%;\n",
       "}\n",
       "\n",
       "#sk-container-id-4 div.sk-parallel-item:only-child::after {\n",
       "  width: 0;\n",
       "}\n",
       "\n",
       "/* Serial-specific style estimator block */\n",
       "\n",
       "#sk-container-id-4 div.sk-serial {\n",
       "  display: flex;\n",
       "  flex-direction: column;\n",
       "  align-items: center;\n",
       "  background-color: var(--sklearn-color-background);\n",
       "  padding-right: 1em;\n",
       "  padding-left: 1em;\n",
       "}\n",
       "\n",
       "\n",
       "/* Toggleable style: style used for estimator/Pipeline/ColumnTransformer box that is\n",
       "clickable and can be expanded/collapsed.\n",
       "- Pipeline and ColumnTransformer use this feature and define the default style\n",
       "- Estimators will overwrite some part of the style using the `sk-estimator` class\n",
       "*/\n",
       "\n",
       "/* Pipeline and ColumnTransformer style (default) */\n",
       "\n",
       "#sk-container-id-4 div.sk-toggleable {\n",
       "  /* Default theme specific background. It is overwritten whether we have a\n",
       "  specific estimator or a Pipeline/ColumnTransformer */\n",
       "  background-color: var(--sklearn-color-background);\n",
       "}\n",
       "\n",
       "/* Toggleable label */\n",
       "#sk-container-id-4 label.sk-toggleable__label {\n",
       "  cursor: pointer;\n",
       "  display: block;\n",
       "  width: 100%;\n",
       "  margin-bottom: 0;\n",
       "  padding: 0.5em;\n",
       "  box-sizing: border-box;\n",
       "  text-align: center;\n",
       "}\n",
       "\n",
       "#sk-container-id-4 label.sk-toggleable__label-arrow:before {\n",
       "  /* Arrow on the left of the label */\n",
       "  content: \"▸\";\n",
       "  float: left;\n",
       "  margin-right: 0.25em;\n",
       "  color: var(--sklearn-color-icon);\n",
       "}\n",
       "\n",
       "#sk-container-id-4 label.sk-toggleable__label-arrow:hover:before {\n",
       "  color: var(--sklearn-color-text);\n",
       "}\n",
       "\n",
       "/* Toggleable content - dropdown */\n",
       "\n",
       "#sk-container-id-4 div.sk-toggleable__content {\n",
       "  max-height: 0;\n",
       "  max-width: 0;\n",
       "  overflow: hidden;\n",
       "  text-align: left;\n",
       "  /* unfitted */\n",
       "  background-color: var(--sklearn-color-unfitted-level-0);\n",
       "}\n",
       "\n",
       "#sk-container-id-4 div.sk-toggleable__content.fitted {\n",
       "  /* fitted */\n",
       "  background-color: var(--sklearn-color-fitted-level-0);\n",
       "}\n",
       "\n",
       "#sk-container-id-4 div.sk-toggleable__content pre {\n",
       "  margin: 0.2em;\n",
       "  border-radius: 0.25em;\n",
       "  color: var(--sklearn-color-text);\n",
       "  /* unfitted */\n",
       "  background-color: var(--sklearn-color-unfitted-level-0);\n",
       "}\n",
       "\n",
       "#sk-container-id-4 div.sk-toggleable__content.fitted pre {\n",
       "  /* unfitted */\n",
       "  background-color: var(--sklearn-color-fitted-level-0);\n",
       "}\n",
       "\n",
       "#sk-container-id-4 input.sk-toggleable__control:checked~div.sk-toggleable__content {\n",
       "  /* Expand drop-down */\n",
       "  max-height: 200px;\n",
       "  max-width: 100%;\n",
       "  overflow: auto;\n",
       "}\n",
       "\n",
       "#sk-container-id-4 input.sk-toggleable__control:checked~label.sk-toggleable__label-arrow:before {\n",
       "  content: \"▾\";\n",
       "}\n",
       "\n",
       "/* Pipeline/ColumnTransformer-specific style */\n",
       "\n",
       "#sk-container-id-4 div.sk-label input.sk-toggleable__control:checked~label.sk-toggleable__label {\n",
       "  color: var(--sklearn-color-text);\n",
       "  background-color: var(--sklearn-color-unfitted-level-2);\n",
       "}\n",
       "\n",
       "#sk-container-id-4 div.sk-label.fitted input.sk-toggleable__control:checked~label.sk-toggleable__label {\n",
       "  background-color: var(--sklearn-color-fitted-level-2);\n",
       "}\n",
       "\n",
       "/* Estimator-specific style */\n",
       "\n",
       "/* Colorize estimator box */\n",
       "#sk-container-id-4 div.sk-estimator input.sk-toggleable__control:checked~label.sk-toggleable__label {\n",
       "  /* unfitted */\n",
       "  background-color: var(--sklearn-color-unfitted-level-2);\n",
       "}\n",
       "\n",
       "#sk-container-id-4 div.sk-estimator.fitted input.sk-toggleable__control:checked~label.sk-toggleable__label {\n",
       "  /* fitted */\n",
       "  background-color: var(--sklearn-color-fitted-level-2);\n",
       "}\n",
       "\n",
       "#sk-container-id-4 div.sk-label label.sk-toggleable__label,\n",
       "#sk-container-id-4 div.sk-label label {\n",
       "  /* The background is the default theme color */\n",
       "  color: var(--sklearn-color-text-on-default-background);\n",
       "}\n",
       "\n",
       "/* On hover, darken the color of the background */\n",
       "#sk-container-id-4 div.sk-label:hover label.sk-toggleable__label {\n",
       "  color: var(--sklearn-color-text);\n",
       "  background-color: var(--sklearn-color-unfitted-level-2);\n",
       "}\n",
       "\n",
       "/* Label box, darken color on hover, fitted */\n",
       "#sk-container-id-4 div.sk-label.fitted:hover label.sk-toggleable__label.fitted {\n",
       "  color: var(--sklearn-color-text);\n",
       "  background-color: var(--sklearn-color-fitted-level-2);\n",
       "}\n",
       "\n",
       "/* Estimator label */\n",
       "\n",
       "#sk-container-id-4 div.sk-label label {\n",
       "  font-family: monospace;\n",
       "  font-weight: bold;\n",
       "  display: inline-block;\n",
       "  line-height: 1.2em;\n",
       "}\n",
       "\n",
       "#sk-container-id-4 div.sk-label-container {\n",
       "  text-align: center;\n",
       "}\n",
       "\n",
       "/* Estimator-specific */\n",
       "#sk-container-id-4 div.sk-estimator {\n",
       "  font-family: monospace;\n",
       "  border: 1px dotted var(--sklearn-color-border-box);\n",
       "  border-radius: 0.25em;\n",
       "  box-sizing: border-box;\n",
       "  margin-bottom: 0.5em;\n",
       "  /* unfitted */\n",
       "  background-color: var(--sklearn-color-unfitted-level-0);\n",
       "}\n",
       "\n",
       "#sk-container-id-4 div.sk-estimator.fitted {\n",
       "  /* fitted */\n",
       "  background-color: var(--sklearn-color-fitted-level-0);\n",
       "}\n",
       "\n",
       "/* on hover */\n",
       "#sk-container-id-4 div.sk-estimator:hover {\n",
       "  /* unfitted */\n",
       "  background-color: var(--sklearn-color-unfitted-level-2);\n",
       "}\n",
       "\n",
       "#sk-container-id-4 div.sk-estimator.fitted:hover {\n",
       "  /* fitted */\n",
       "  background-color: var(--sklearn-color-fitted-level-2);\n",
       "}\n",
       "\n",
       "/* Specification for estimator info (e.g. \"i\" and \"?\") */\n",
       "\n",
       "/* Common style for \"i\" and \"?\" */\n",
       "\n",
       ".sk-estimator-doc-link,\n",
       "a:link.sk-estimator-doc-link,\n",
       "a:visited.sk-estimator-doc-link {\n",
       "  float: right;\n",
       "  font-size: smaller;\n",
       "  line-height: 1em;\n",
       "  font-family: monospace;\n",
       "  background-color: var(--sklearn-color-background);\n",
       "  border-radius: 1em;\n",
       "  height: 1em;\n",
       "  width: 1em;\n",
       "  text-decoration: none !important;\n",
       "  margin-left: 1ex;\n",
       "  /* unfitted */\n",
       "  border: var(--sklearn-color-unfitted-level-1) 1pt solid;\n",
       "  color: var(--sklearn-color-unfitted-level-1);\n",
       "}\n",
       "\n",
       ".sk-estimator-doc-link.fitted,\n",
       "a:link.sk-estimator-doc-link.fitted,\n",
       "a:visited.sk-estimator-doc-link.fitted {\n",
       "  /* fitted */\n",
       "  border: var(--sklearn-color-fitted-level-1) 1pt solid;\n",
       "  color: var(--sklearn-color-fitted-level-1);\n",
       "}\n",
       "\n",
       "/* On hover */\n",
       "div.sk-estimator:hover .sk-estimator-doc-link:hover,\n",
       ".sk-estimator-doc-link:hover,\n",
       "div.sk-label-container:hover .sk-estimator-doc-link:hover,\n",
       ".sk-estimator-doc-link:hover {\n",
       "  /* unfitted */\n",
       "  background-color: var(--sklearn-color-unfitted-level-3);\n",
       "  color: var(--sklearn-color-background);\n",
       "  text-decoration: none;\n",
       "}\n",
       "\n",
       "div.sk-estimator.fitted:hover .sk-estimator-doc-link.fitted:hover,\n",
       ".sk-estimator-doc-link.fitted:hover,\n",
       "div.sk-label-container:hover .sk-estimator-doc-link.fitted:hover,\n",
       ".sk-estimator-doc-link.fitted:hover {\n",
       "  /* fitted */\n",
       "  background-color: var(--sklearn-color-fitted-level-3);\n",
       "  color: var(--sklearn-color-background);\n",
       "  text-decoration: none;\n",
       "}\n",
       "\n",
       "/* Span, style for the box shown on hovering the info icon */\n",
       ".sk-estimator-doc-link span {\n",
       "  display: none;\n",
       "  z-index: 9999;\n",
       "  position: relative;\n",
       "  font-weight: normal;\n",
       "  right: .2ex;\n",
       "  padding: .5ex;\n",
       "  margin: .5ex;\n",
       "  width: min-content;\n",
       "  min-width: 20ex;\n",
       "  max-width: 50ex;\n",
       "  color: var(--sklearn-color-text);\n",
       "  box-shadow: 2pt 2pt 4pt #999;\n",
       "  /* unfitted */\n",
       "  background: var(--sklearn-color-unfitted-level-0);\n",
       "  border: .5pt solid var(--sklearn-color-unfitted-level-3);\n",
       "}\n",
       "\n",
       ".sk-estimator-doc-link.fitted span {\n",
       "  /* fitted */\n",
       "  background: var(--sklearn-color-fitted-level-0);\n",
       "  border: var(--sklearn-color-fitted-level-3);\n",
       "}\n",
       "\n",
       ".sk-estimator-doc-link:hover span {\n",
       "  display: block;\n",
       "}\n",
       "\n",
       "/* \"?\"-specific style due to the `<a>` HTML tag */\n",
       "\n",
       "#sk-container-id-4 a.estimator_doc_link {\n",
       "  float: right;\n",
       "  font-size: 1rem;\n",
       "  line-height: 1em;\n",
       "  font-family: monospace;\n",
       "  background-color: var(--sklearn-color-background);\n",
       "  border-radius: 1rem;\n",
       "  height: 1rem;\n",
       "  width: 1rem;\n",
       "  text-decoration: none;\n",
       "  /* unfitted */\n",
       "  color: var(--sklearn-color-unfitted-level-1);\n",
       "  border: var(--sklearn-color-unfitted-level-1) 1pt solid;\n",
       "}\n",
       "\n",
       "#sk-container-id-4 a.estimator_doc_link.fitted {\n",
       "  /* fitted */\n",
       "  border: var(--sklearn-color-fitted-level-1) 1pt solid;\n",
       "  color: var(--sklearn-color-fitted-level-1);\n",
       "}\n",
       "\n",
       "/* On hover */\n",
       "#sk-container-id-4 a.estimator_doc_link:hover {\n",
       "  /* unfitted */\n",
       "  background-color: var(--sklearn-color-unfitted-level-3);\n",
       "  color: var(--sklearn-color-background);\n",
       "  text-decoration: none;\n",
       "}\n",
       "\n",
       "#sk-container-id-4 a.estimator_doc_link.fitted:hover {\n",
       "  /* fitted */\n",
       "  background-color: var(--sklearn-color-fitted-level-3);\n",
       "}\n",
       "</style><div id=\"sk-container-id-4\" class=\"sk-top-container\"><div class=\"sk-text-repr-fallback\"><pre>RandomForestRegressor(n_estimators=10, oob_score=True, random_state=0)</pre><b>In a Jupyter environment, please rerun this cell to show the HTML representation or trust the notebook. <br />On GitHub, the HTML representation is unable to render, please try loading this page with nbviewer.org.</b></div><div class=\"sk-container\" hidden><div class=\"sk-item\"><div class=\"sk-estimator fitted sk-toggleable\"><input class=\"sk-toggleable__control sk-hidden--visually\" id=\"sk-estimator-id-4\" type=\"checkbox\" checked><label for=\"sk-estimator-id-4\" class=\"sk-toggleable__label fitted sk-toggleable__label-arrow fitted\">&nbsp;&nbsp;RandomForestRegressor<a class=\"sk-estimator-doc-link fitted\" rel=\"noreferrer\" target=\"_blank\" href=\"https://scikit-learn.org/1.4/modules/generated/sklearn.ensemble.RandomForestRegressor.html\">?<span>Documentation for RandomForestRegressor</span></a><span class=\"sk-estimator-doc-link fitted\">i<span>Fitted</span></span></label><div class=\"sk-toggleable__content fitted\"><pre>RandomForestRegressor(n_estimators=10, oob_score=True, random_state=0)</pre></div> </div></div></div></div>"
      ],
      "text/plain": [
       "RandomForestRegressor(n_estimators=10, oob_score=True, random_state=0)"
      ]
     },
     "execution_count": 61,
     "metadata": {},
     "output_type": "execute_result"
    }
   ],
   "source": [
    "x = df_res_wo.drop(['Sale_price'],axis=1).values\n",
    "y = df_res_wo['Sale_price'].values\n",
    "x_train,x_test,y_train,y_test = train_test_split(x, y, test_size=0.2,random_state=0)\n",
    "# Fit the regressor with x and y data\n",
    "regressor.fit(x_train, y_train)"
   ]
  },
  {
   "cell_type": "markdown",
   "id": "fd9204f5-5f6d-4a57-8ca2-6a3150f2abbd",
   "metadata": {},
   "source": [
    "<font color='blue'>&emsp;Get the MSE, Out-Of-Bag, and R Squared Values<font>"
   ]
  },
  {
   "cell_type": "code",
   "execution_count": 62,
   "id": "a257bc4f-9e30-47b0-bab5-5fe08fbecd02",
   "metadata": {},
   "outputs": [
    {
     "name": "stdout",
     "output_type": "stream",
     "text": [
      "1229271125.091397\n"
     ]
    }
   ],
   "source": [
    "from sklearn.metrics import mean_squared_error, r2_score\n",
    "predictions = regressor.predict(x_test)\n",
    "mse = mean_squared_error(y_test, predictions)\n",
    "print(mse)"
   ]
  },
  {
   "cell_type": "code",
   "execution_count": 63,
   "id": "5ca019e3-2dc8-4eb8-8bf6-8ca194b6a670",
   "metadata": {},
   "outputs": [
    {
     "name": "stdout",
     "output_type": "stream",
     "text": [
      "Out-of-Bag Score: 0.6373090183708544\n"
     ]
    }
   ],
   "source": [
    "oob_score = regressor.oob_score_\n",
    "print(f'Out-of-Bag Score: {oob_score}')"
   ]
  },
  {
   "cell_type": "code",
   "execution_count": 64,
   "id": "a3086430-c1d7-4616-bf60-7799a5b87fda",
   "metadata": {},
   "outputs": [
    {
     "name": "stdout",
     "output_type": "stream",
     "text": [
      "R-squared: 0.7439061219299217\n"
     ]
    }
   ],
   "source": [
    "r2 = r2_score(y_test, predictions)\n",
    "print(f'R-squared: {r2}')"
   ]
  },
  {
   "cell_type": "markdown",
   "id": "92edad7f-059d-4992-85c6-d93f84625ab7",
   "metadata": {},
   "source": [
    "#### Overview/Conclusion<a id=\"250\"></a>"
   ]
  },
  {
   "cell_type": "markdown",
   "id": "eba8f804-034e-4423-8d9c-b95e21c9653b",
   "metadata": {},
   "source": [
    "<font color='blue'>An additional step was added to Milestone 2 to create dummy variables for categorical data.</font><br>\n",
    "\n",
    "<font color='blue'>Since the target, sales price, is numeric, regression models were chosen.</font><br>\n",
    "\n",
    "<font color='blue'>Each model was trained on several different forms of the dataset to see how the results differentiated for each.</font><br>\n",
    "\n",
    "<font color='blue'>The Random Forest Regression model appeared to be the best choice as it had an R sqared value of 49% with the original, un-modified, dataset and 66% using the residential dataset, containing outliers.</font><br>\n",
    "\n",
    "<font color='blue'>The Linear Regression Model did not seem to deal well with outliers very well.</font><br>\n",
    "<font color='blue'>When outliers were removed it reported 23% accuracy and performed almost twice as good, 44% accuracy, using residential data.</font>\n",
    "\n",
    "<font color='blue'> Overall, both models performed better using the residential datasets. \n"
   ]
  },
  {
   "cell_type": "markdown",
   "id": "ddbdd73a",
   "metadata": {},
   "source": [
    "### References:<a id=\"6\"></a> \n",
    "\n",
    "#### Data Source:\n",
    "https://data.milwaukee.gov/dataset/property-sales-data"
   ]
  },
  {
   "cell_type": "code",
   "execution_count": null,
   "id": "a374621e",
   "metadata": {},
   "outputs": [],
   "source": []
  }
 ],
 "metadata": {
  "kernelspec": {
   "display_name": "Python 3 (ipykernel)",
   "language": "python",
   "name": "python3"
  },
  "language_info": {
   "codemirror_mode": {
    "name": "ipython",
    "version": 3
   },
   "file_extension": ".py",
   "mimetype": "text/x-python",
   "name": "python",
   "nbconvert_exporter": "python",
   "pygments_lexer": "ipython3",
   "version": "3.10.13"
  }
 },
 "nbformat": 4,
 "nbformat_minor": 5
}
